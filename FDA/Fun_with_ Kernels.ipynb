{
 "cells": [
  {
   "cell_type": "markdown",
   "id": "b16090d0-2e23-4162-b746-fcbf715ea288",
   "metadata": {},
   "source": [
    "### Kernel Functions, Kernel Smoothing, Kernel Regression\n"
   ]
  },
  {
   "cell_type": "markdown",
   "id": "435bfbf7-b471-45ea-9562-285cf9ece1a9",
   "metadata": {},
   "source": [
    "Types of Kernel Functions (Nonparametric Statistics)\n",
    "\n",
    "https://en.wikipedia.org/wiki/Kernel_(statistics)#Kernel_functions_in_common_use\n",
    "\n",
    "\n",
    "https://www.statsmodels.org/dev/nonparametric.html\n",
    "\n",
    "\n",
    "Any function satisfying specific normalization, symmetry conditions\n",
    "- Gaussian\n",
    "- Uniform\n",
    "- Silvermans\n",
    "- Triangular "
   ]
  },
  {
   "cell_type": "code",
   "execution_count": 1,
   "id": "fbc95498-fce8-4c48-bf9b-2d4b268f6626",
   "metadata": {},
   "outputs": [],
   "source": [
    "import matplotlib.pyplot as plt\n",
    "import numpy as np\n",
    "import pandas as pd\n",
    "# ^^^ pyforest auto-imports - don't write above this line\n",
    "from scipy.stats import gaussian_kde, norm"
   ]
  },
  {
   "cell_type": "markdown",
   "id": "ae9af295-ac4a-4248-a947-b141508960e2",
   "metadata": {},
   "source": [
    "### Example of Gaussian Kernel Density Estimation\n",
    "\n",
    "At each point creates a PDF describing proabbility of near obseved values "
   ]
  },
  {
   "cell_type": "code",
   "execution_count": 2,
   "id": "dbdf7d9c-b7ba-4043-aff1-d61d2bb42319",
   "metadata": {},
   "outputs": [
    {
     "data": {
      "application/javascript": [
       "\n",
       "        if (window._pyforest_update_imports_cell) { window._pyforest_update_imports_cell('import numpy as np'); }\n",
       "    "
      ],
      "text/plain": [
       "<IPython.core.display.Javascript object>"
      ]
     },
     "metadata": {},
     "output_type": "display_data"
    },
    {
     "data": {
      "application/javascript": [
       "\n",
       "        if (window._pyforest_update_imports_cell) { window._pyforest_update_imports_cell('import numpy as np\\nimport pandas as pd'); }\n",
       "    "
      ],
      "text/plain": [
       "<IPython.core.display.Javascript object>"
      ]
     },
     "metadata": {},
     "output_type": "display_data"
    },
    {
     "data": {
      "text/html": [
       "<div>\n",
       "<style scoped>\n",
       "    .dataframe tbody tr th:only-of-type {\n",
       "        vertical-align: middle;\n",
       "    }\n",
       "\n",
       "    .dataframe tbody tr th {\n",
       "        vertical-align: top;\n",
       "    }\n",
       "\n",
       "    .dataframe thead th {\n",
       "        text-align: right;\n",
       "    }\n",
       "</style>\n",
       "<table border=\"1\" class=\"dataframe\">\n",
       "  <thead>\n",
       "    <tr style=\"text-align: right;\">\n",
       "      <th></th>\n",
       "      <th>0</th>\n",
       "    </tr>\n",
       "  </thead>\n",
       "  <tbody>\n",
       "    <tr>\n",
       "      <th>count</th>\n",
       "      <td>500.000000</td>\n",
       "    </tr>\n",
       "    <tr>\n",
       "      <th>mean</th>\n",
       "      <td>0.084006</td>\n",
       "    </tr>\n",
       "    <tr>\n",
       "      <th>std</th>\n",
       "      <td>1.056837</td>\n",
       "    </tr>\n",
       "    <tr>\n",
       "      <th>min</th>\n",
       "      <td>-3.332530</td>\n",
       "    </tr>\n",
       "    <tr>\n",
       "      <th>25%</th>\n",
       "      <td>-0.662513</td>\n",
       "    </tr>\n",
       "    <tr>\n",
       "      <th>50%</th>\n",
       "      <td>0.086234</td>\n",
       "    </tr>\n",
       "    <tr>\n",
       "      <th>75%</th>\n",
       "      <td>0.810580</td>\n",
       "    </tr>\n",
       "    <tr>\n",
       "      <th>max</th>\n",
       "      <td>3.326492</td>\n",
       "    </tr>\n",
       "  </tbody>\n",
       "</table>\n",
       "</div>"
      ],
      "text/plain": [
       "                0\n",
       "count  500.000000\n",
       "mean     0.084006\n",
       "std      1.056837\n",
       "min     -3.332530\n",
       "25%     -0.662513\n",
       "50%      0.086234\n",
       "75%      0.810580\n",
       "max      3.326492"
      ]
     },
     "execution_count": 2,
     "metadata": {},
     "output_type": "execute_result"
    }
   ],
   "source": [
    "y=norm.rvs(size=500)+0.1*np.random.rand(500)\n",
    "df_describe = pd.DataFrame(y)\n",
    "df_describe.describe()"
   ]
  },
  {
   "cell_type": "code",
   "execution_count": 3,
   "id": "be08bd67-4199-4293-baa6-7263ff4d0c72",
   "metadata": {},
   "outputs": [
    {
     "data": {
      "application/javascript": [
       "\n",
       "        if (window._pyforest_update_imports_cell) { window._pyforest_update_imports_cell('import numpy as np\\nimport pandas as pd'); }\n",
       "    "
      ],
      "text/plain": [
       "<IPython.core.display.Javascript object>"
      ]
     },
     "metadata": {},
     "output_type": "display_data"
    },
    {
     "name": "stdout",
     "output_type": "stream",
     "text": [
      "Bandwith Factor is 0.2885399811814427\n",
      "Kernel Covariance is ,  [[0.0929883]]\n"
     ]
    }
   ],
   "source": [
    "scott_kernel=gaussian_kde(y,bw_method='scott')\n",
    "x=np.linspace(min(y),max(y),500)\n",
    "print(\"Bandwith Factor is\",scott_kernel.factor)\n",
    "print(\"Kernel Covariance is , \",scott_kernel.covariance)"
   ]
  },
  {
   "cell_type": "code",
   "execution_count": 4,
   "id": "e844ede2-95ca-42e4-8ad4-b2c06b12f167",
   "metadata": {},
   "outputs": [
    {
     "data": {
      "application/javascript": [
       "\n",
       "        if (window._pyforest_update_imports_cell) { window._pyforest_update_imports_cell('import matplotlib.pyplot as plt\\nimport numpy as np\\nimport pandas as pd'); }\n",
       "    "
      ],
      "text/plain": [
       "<IPython.core.display.Javascript object>"
      ]
     },
     "metadata": {},
     "output_type": "display_data"
    },
    {
     "data": {
      "text/plain": [
       "<matplotlib.legend.Legend at 0x7ff204b25d00>"
      ]
     },
     "execution_count": 4,
     "metadata": {},
     "output_type": "execute_result"
    },
    {
     "data": {
      "image/png": "[encoded data removed]",
      "text/plain": [
       "<Figure size 432x288 with 2 Axes>"
      ]
     },
     "metadata": {
      "needs_background": "light"
     },
     "output_type": "display_data"
    }
   ],
   "source": [
    "fig,ax=plt.subplots()\n",
    "ax.plot(x,scott_kernel(x),label='Gaussian Kernel')\n",
    "ax2=ax.twinx()\n",
    "ax2.hist(y,bins=20,color='orange',label='Hist')\n",
    "ax.legend()\n",
    "ax2.legend(loc='upper left')"
   ]
  },
  {
   "cell_type": "markdown",
   "id": "91ce1a24-d6af-4b78-a1cb-519fba95ee8b",
   "metadata": {},
   "source": [
    "Bandwith essentially determines smoothest as value increases smoothest, the degree of intersection between local kernels -> Stronger effect than shapes of kernels\n",
    "\n",
    "Natural question, what if we change the value of the bandwith as this a parameterized value\n",
    "\n",
    "Choices:\n",
    "- Scotts -> Function of n/ dimensions\n",
    "- Silverman -> Function of n/ dimensions"
   ]
  },
  {
   "cell_type": "code",
   "execution_count": 5,
   "id": "de6bae42-21ee-43cd-8640-94beeecdb3f9",
   "metadata": {},
   "outputs": [
    {
     "data": {
      "application/javascript": [
       "\n",
       "        if (window._pyforest_update_imports_cell) { window._pyforest_update_imports_cell('import matplotlib.pyplot as plt\\nimport numpy as np\\nimport pandas as pd'); }\n",
       "    "
      ],
      "text/plain": [
       "<IPython.core.display.Javascript object>"
      ]
     },
     "metadata": {},
     "output_type": "display_data"
    },
    {
     "name": "stdout",
     "output_type": "stream",
     "text": [
      "Bandwith Factor is 0.30562842716315974\n",
      "Kernel Covariance is ,  [[0.1043287]]\n"
     ]
    }
   ],
   "source": [
    "silver_kernel=gaussian_kde(y,bw_method='silverman')\n",
    "x=np.linspace(min(y),max(y),500)\n",
    "print(\"Bandwith Factor is\",silver_kernel.factor)\n",
    "print(\"Kernel Covariance is , \",silver_kernel.covariance)"
   ]
  },
  {
   "cell_type": "markdown",
   "id": "b78e4883-1328-4f79-94fb-ce80d2ae5453",
   "metadata": {},
   "source": [
    "Hand-Selecting Bandwith"
   ]
  },
  {
   "cell_type": "code",
   "execution_count": 6,
   "id": "1dc951f4-017c-4b0c-95dc-b48551e5f9d5",
   "metadata": {},
   "outputs": [
    {
     "data": {
      "application/javascript": [
       "\n",
       "        if (window._pyforest_update_imports_cell) { window._pyforest_update_imports_cell('import matplotlib.pyplot as plt\\nimport numpy as np\\nimport pandas as pd'); }\n",
       "    "
      ],
      "text/plain": [
       "<IPython.core.display.Javascript object>"
      ]
     },
     "metadata": {},
     "output_type": "display_data"
    },
    {
     "name": "stdout",
     "output_type": "stream",
     "text": [
      "Bandwith Factor is 0.75\n",
      "Kernel Covariance is ,  [[0.62825916]]\n"
     ]
    }
   ],
   "source": [
    "kernel1=gaussian_kde(y,bw_method=0.75)\n",
    "x=np.linspace(min(y),max(y),500)\n",
    "print(\"Bandwith Factor is\",kernel1.factor)\n",
    "print(\"Kernel Covariance is , \",kernel1.covariance)"
   ]
  },
  {
   "cell_type": "raw",
   "id": "934fe3ec-0be8-4bf2-8be0-e30e1b653621",
   "metadata": {},
   "source": []
  },
  {
   "cell_type": "code",
   "execution_count": 7,
   "id": "8691f4f2-be20-4a4d-8400-e5293173483d",
   "metadata": {},
   "outputs": [
    {
     "data": {
      "application/javascript": [
       "\n",
       "        if (window._pyforest_update_imports_cell) { window._pyforest_update_imports_cell('import matplotlib.pyplot as plt\\nimport numpy as np\\nimport pandas as pd'); }\n",
       "    "
      ],
      "text/plain": [
       "<IPython.core.display.Javascript object>"
      ]
     },
     "metadata": {},
     "output_type": "display_data"
    },
    {
     "name": "stdout",
     "output_type": "stream",
     "text": [
      "Bandwith Factor is 0.1\n",
      "Kernel Covariance is ,  [[0.01116905]]\n"
     ]
    }
   ],
   "source": [
    "kernel2=gaussian_kde(y,bw_method=0.10)\n",
    "x=np.linspace(min(y),max(y),500)\n",
    "print(\"Bandwith Factor is\",kernel2.factor)\n",
    "print(\"Kernel Covariance is , \",kernel2.covariance)"
   ]
  },
  {
   "cell_type": "markdown",
   "id": "666bfa76-6028-4131-9463-663ac74fea93",
   "metadata": {},
   "source": [
    "Comparing Results"
   ]
  },
  {
   "cell_type": "code",
   "execution_count": 8,
   "id": "a2b20901-2cda-424e-8c23-644c75da8713",
   "metadata": {},
   "outputs": [
    {
     "data": {
      "application/javascript": [
       "\n",
       "        if (window._pyforest_update_imports_cell) { window._pyforest_update_imports_cell('import matplotlib.pyplot as plt\\nimport numpy as np\\nimport pandas as pd'); }\n",
       "    "
      ],
      "text/plain": [
       "<IPython.core.display.Javascript object>"
      ]
     },
     "metadata": {},
     "output_type": "display_data"
    },
    {
     "data": {
      "text/plain": [
       "<matplotlib.legend.Legend at 0x7ff20319dfa0>"
      ]
     },
     "execution_count": 8,
     "metadata": {},
     "output_type": "execute_result"
    },
    {
     "data": {
      "image/png": "[encoded data removed]",
      "text/plain": [
       "<Figure size 432x288 with 1 Axes>"
      ]
     },
     "metadata": {
      "needs_background": "light"
     },
     "output_type": "display_data"
    }
   ],
   "source": [
    "fig,ax=plt.subplots()\n",
    "ax.plot(x,scott_kernel(x),label='Scott Kernel')\n",
    "ax.plot(x,silver_kernel(x),label='Silver Kernel')\n",
    "ax.plot(x,kernel1(x),label='0.75')\n",
    "ax.plot(x,kernel2(x),label='0.10')\n",
    "ax.legend()\n"
   ]
  },
  {
   "cell_type": "markdown",
   "id": "4afcb0e1-d750-4809-a990-3dff567458af",
   "metadata": {},
   "source": [
    "### Functional Data Analysis"
   ]
  },
  {
   "cell_type": "code",
   "execution_count": 9,
   "id": "357000a4-72d4-4ee2-ae6a-c4aa9b29bfcd",
   "metadata": {},
   "outputs": [
    {
     "name": "stderr",
     "output_type": "stream",
     "text": [
      "OMP: Info #276: omp_set_nested routine deprecated, please use omp_set_max_active_levels instead.\n"
     ]
    }
   ],
   "source": [
    "import skfda\n",
    "from skfda import FDataGrid\n",
    "from skfda.misc.hat_matrix import NadarayaWatsonHatMatrix\n",
    "from skfda.preprocessing.smoothing import KernelSmoother\n",
    "\n"
   ]
  },
  {
   "cell_type": "markdown",
   "id": "c9b30b0b-f15c-48f0-8d58-daf15e0fbfa4",
   "metadata": {},
   "source": [
    "Kernel Regression"
   ]
  },
  {
   "cell_type": "code",
   "execution_count": 10,
   "id": "c96d2400-bf70-40e6-8a45-1773f60bfda7",
   "metadata": {},
   "outputs": [
    {
     "data": {
      "text/plain": [
       "array([[[2.42],\n",
       "        [2.61],\n",
       "        [3.03],\n",
       "        [3.24],\n",
       "        [3.65]]])"
      ]
     },
     "execution_count": 10,
     "metadata": {},
     "output_type": "execute_result"
    }
   ],
   "source": [
    "fd = FDataGrid(grid_points=[1, 2, 4, 5, 7],data_matrix=[[1, 2, 3, 4, 5]],)\n",
    "kernel_estimator = NadarayaWatsonHatMatrix(bandwidth=3.5)\n",
    "smoother = KernelSmoother(kernel_estimator=kernel_estimator)\n",
    "fd_smoothed = smoother.fit_transform(fd)\n",
    "fd_smoothed.data_matrix.round(2)"
   ]
  },
  {
   "cell_type": "code",
   "execution_count": null,
   "id": "3e890940-7556-4eee-a1b3-4afb6e8fa9c5",
   "metadata": {},
   "outputs": [],
   "source": []
  },
  {
   "cell_type": "markdown",
   "id": "9cfdb7c8-c6da-4f10-b897-459751c4822c",
   "metadata": {},
   "source": [
    "# Functional Approximation:\n",
    "    \n",
    "    - Given a set of data find the simplest, closest function!!\n",
    "    - Uses Penalized Least squares problem"
   ]
  },
  {
   "cell_type": "code",
   "execution_count": 11,
   "id": "34b4cdac-fc00-4385-95d1-99cebddd95d1",
   "metadata": {},
   "outputs": [
    {
     "data": {
      "application/javascript": [
       "\n",
       "        if (window._pyforest_update_imports_cell) { window._pyforest_update_imports_cell('import matplotlib.pyplot as plt\\nimport numpy as np\\nimport pandas as pd'); }\n",
       "    "
      ],
      "text/plain": [
       "<IPython.core.display.Javascript object>"
      ]
     },
     "metadata": {},
     "output_type": "display_data"
    },
    {
     "data": {
      "application/javascript": [
       "\n",
       "        if (window._pyforest_update_imports_cell) { window._pyforest_update_imports_cell('import matplotlib.pyplot as plt\\nimport numpy as np\\nimport pandas as pd'); }\n",
       "    "
      ],
      "text/plain": [
       "<IPython.core.display.Javascript object>"
      ]
     },
     "metadata": {},
     "output_type": "display_data"
    },
    {
     "data": {
      "application/javascript": [
       "\n",
       "        if (window._pyforest_update_imports_cell) { window._pyforest_update_imports_cell('import matplotlib.pyplot as plt\\nimport numpy as np\\nimport pandas as pd'); }\n",
       "    "
      ],
      "text/plain": [
       "<IPython.core.display.Javascript object>"
      ]
     },
     "metadata": {},
     "output_type": "display_data"
    },
    {
     "data": {
      "application/javascript": [
       "\n",
       "        if (window._pyforest_update_imports_cell) { window._pyforest_update_imports_cell('import matplotlib.pyplot as plt\\nimport numpy as np\\nimport pandas as pd'); }\n",
       "    "
      ],
      "text/plain": [
       "<IPython.core.display.Javascript object>"
      ]
     },
     "metadata": {},
     "output_type": "display_data"
    },
    {
     "data": {
      "application/javascript": [
       "\n",
       "        if (window._pyforest_update_imports_cell) { window._pyforest_update_imports_cell('import matplotlib.pyplot as plt\\nimport numpy as np\\nimport pandas as pd'); }\n",
       "    "
      ],
      "text/plain": [
       "<IPython.core.display.Javascript object>"
      ]
     },
     "metadata": {},
     "output_type": "display_data"
    }
   ],
   "source": [
    "# Data is sampled from a sum of trig functions\n",
    "t = np.linspace(0, 1, 10)\n",
    "x = np.sin(2 * np.pi * t) + np.cos(2 * np.pi * t) + 2"
   ]
  },
  {
   "cell_type": "markdown",
   "id": "9b12ef6f-bdf6-491f-9bfc-091a1ce3a3fe",
   "metadata": {},
   "source": [
    "### Fourier\n",
    "- Encode Data as discrete grid\n",
    "- Set Basis function as fourier\n",
    "- Approximate data via 3 basis functions of fourier series, solving via cholesky decomp\n",
    "- Extract coefficients\n"
   ]
  },
  {
   "cell_type": "code",
   "execution_count": 12,
   "id": "f9f08347-4abe-4189-803e-6e45348fb92b",
   "metadata": {},
   "outputs": [
    {
     "data": {
      "text/plain": [
       "array([2.  , 0.71, 0.71])"
      ]
     },
     "execution_count": 12,
     "metadata": {},
     "output_type": "execute_result"
    }
   ],
   "source": [
    "fd = skfda.FDataGrid(data_matrix=x, grid_points=t)\n",
    "basis = skfda.representation.basis.Fourier((0, 1), n_basis=3)\n",
    "\n",
    "smoother = skfda.preprocessing.smoothing.BasisSmoother(basis,method='cholesky',return_basis=True)\n",
    "fourier_basis = smoother.fit_transform(fd)\n",
    "coeff=fourier_basis.coefficients.round(2)[0]\n",
    "coeff"
   ]
  },
  {
   "cell_type": "code",
   "execution_count": 13,
   "id": "604ce55e-f1fa-4378-9570-1037c391d5e6",
   "metadata": {},
   "outputs": [
    {
     "data": {
      "application/javascript": [
       "\n",
       "        if (window._pyforest_update_imports_cell) { window._pyforest_update_imports_cell('import matplotlib.pyplot as plt\\nimport numpy as np\\nimport pandas as pd'); }\n",
       "    "
      ],
      "text/plain": [
       "<IPython.core.display.Javascript object>"
      ]
     },
     "metadata": {},
     "output_type": "display_data"
    },
    {
     "data": {
      "application/javascript": [
       "\n",
       "        if (window._pyforest_update_imports_cell) { window._pyforest_update_imports_cell('import matplotlib.pyplot as plt\\nimport numpy as np\\nimport pandas as pd'); }\n",
       "    "
      ],
      "text/plain": [
       "<IPython.core.display.Javascript object>"
      ]
     },
     "metadata": {},
     "output_type": "display_data"
    },
    {
     "data": {
      "application/javascript": [
       "\n",
       "        if (window._pyforest_update_imports_cell) { window._pyforest_update_imports_cell('import matplotlib.pyplot as plt\\nimport numpy as np\\nimport pandas as pd'); }\n",
       "    "
      ],
      "text/plain": [
       "<IPython.core.display.Javascript object>"
      ]
     },
     "metadata": {},
     "output_type": "display_data"
    },
    {
     "data": {
      "image/png": "[encoded data removed]",
      "text/plain": [
       "<Figure size 432x288 with 1 Axes>"
      ]
     },
     "metadata": {
      "needs_background": "light"
     },
     "output_type": "display_data"
    }
   ],
   "source": [
    "fourier_basis.plot(label='Fourier Basis')\n",
    "plt.plot(t,x,label='Actual Data')\n",
    "plt.legend()\n",
    "plt.show()"
   ]
  },
  {
   "cell_type": "markdown",
   "id": "d9b4b687-03f7-4bd2-ab7e-f6ddd2e4dc62",
   "metadata": {},
   "source": [
    "### B-Spline Basis"
   ]
  },
  {
   "cell_type": "code",
   "execution_count": 14,
   "id": "b55daa06-f9b5-41d9-b625-7e1245e47fbb",
   "metadata": {},
   "outputs": [
    {
     "name": "stdout",
     "output_type": "stream",
     "text": [
      "Basis for Cubic Spline is [2.98 4.2  0.4  1.15 3.07]\n",
      "Basis for Linear Spline is [3.2  2.76 1.06 0.91 2.56]\n"
     ]
    }
   ],
   "source": [
    "fd = skfda.FDataGrid(data_matrix=x, grid_points=t)\n",
    "\n",
    "basis3 = skfda.representation.basis.BSpline(n_basis=5, order=3)\n",
    "smoother3 = skfda.preprocessing.smoothing.BasisSmoother(basis3,method='cholesky',return_basis=True,)\n",
    "fd_basis3 = smoother3.fit_transform(fd)\n",
    "coeff=fd_basis3.coefficients.round(2)[0]\n",
    "print(\"Basis for Cubic Spline is\",coeff)\n",
    "\n",
    "basis1 = skfda.representation.basis.BSpline(n_basis=5, order=1)\n",
    "smoother1 = skfda.preprocessing.smoothing.BasisSmoother(basis1,method='cholesky',return_basis=True,)\n",
    "fd_basis1 = smoother1.fit_transform(fd)\n",
    "coeff1=fd_basis1.coefficients.round(2)[0]\n",
    "print(\"Basis for Linear Spline is\",coeff1)"
   ]
  },
  {
   "cell_type": "code",
   "execution_count": 15,
   "id": "1732a114-2c5d-4b3b-b141-e545bc0225c1",
   "metadata": {},
   "outputs": [
    {
     "data": {
      "application/javascript": [
       "\n",
       "        if (window._pyforest_update_imports_cell) { window._pyforest_update_imports_cell('import matplotlib.pyplot as plt\\nimport numpy as np\\nimport pandas as pd'); }\n",
       "    "
      ],
      "text/plain": [
       "<IPython.core.display.Javascript object>"
      ]
     },
     "metadata": {},
     "output_type": "display_data"
    },
    {
     "data": {
      "application/javascript": [
       "\n",
       "        if (window._pyforest_update_imports_cell) { window._pyforest_update_imports_cell('import matplotlib.pyplot as plt\\nimport numpy as np\\nimport pandas as pd'); }\n",
       "    "
      ],
      "text/plain": [
       "<IPython.core.display.Javascript object>"
      ]
     },
     "metadata": {},
     "output_type": "display_data"
    },
    {
     "data": {
      "application/javascript": [
       "\n",
       "        if (window._pyforest_update_imports_cell) { window._pyforest_update_imports_cell('import matplotlib.pyplot as plt\\nimport numpy as np\\nimport pandas as pd'); }\n",
       "    "
      ],
      "text/plain": [
       "<IPython.core.display.Javascript object>"
      ]
     },
     "metadata": {},
     "output_type": "display_data"
    },
    {
     "data": {
      "application/javascript": [
       "\n",
       "        if (window._pyforest_update_imports_cell) { window._pyforest_update_imports_cell('import matplotlib.pyplot as plt\\nimport numpy as np\\nimport pandas as pd'); }\n",
       "    "
      ],
      "text/plain": [
       "<IPython.core.display.Javascript object>"
      ]
     },
     "metadata": {},
     "output_type": "display_data"
    },
    {
     "data": {
      "application/javascript": [
       "\n",
       "        if (window._pyforest_update_imports_cell) { window._pyforest_update_imports_cell('import matplotlib.pyplot as plt\\nimport numpy as np\\nimport pandas as pd'); }\n",
       "    "
      ],
      "text/plain": [
       "<IPython.core.display.Javascript object>"
      ]
     },
     "metadata": {},
     "output_type": "display_data"
    },
    {
     "data": {
      "image/png": "[encoded data removed]",
      "text/plain": [
       "<Figure size 432x288 with 1 Axes>"
      ]
     },
     "metadata": {
      "needs_background": "light"
     },
     "output_type": "display_data"
    },
    {
     "data": {
      "image/png": "[encoded data removed]",
      "text/plain": [
       "<Figure size 432x288 with 1 Axes>"
      ]
     },
     "metadata": {
      "needs_background": "light"
     },
     "output_type": "display_data"
    }
   ],
   "source": [
    "fd_basis3.plot(label='Order 3 Spline')\n",
    "plt.plot(t,x,label='Actual Data')\n",
    "plt.legend()\n",
    "fd_basis1.plot(label='Order 1 Spline')\n",
    "plt.plot(t,x,label='Actual Data')\n",
    "plt.legend()\n",
    "plt.show()"
   ]
  },
  {
   "cell_type": "markdown",
   "id": "181180cf-7549-4c04-9a81-9f34191d13be",
   "metadata": {},
   "source": [
    "### Polynomial Approach"
   ]
  },
  {
   "cell_type": "code",
   "execution_count": 23,
   "id": "ddca375d-dc9c-4e06-91bc-424836e6da6e",
   "metadata": {},
   "outputs": [
    {
     "name": "stdout",
     "output_type": "stream",
     "text": [
      "Basis for Cubic Polynomial is [  3.19   2.9  -23.87  21.08]\n",
      "Basis for Linear Polynomial is [ 2.77 -1.35]\n"
     ]
    }
   ],
   "source": [
    "fd = skfda.FDataGrid(data_matrix=x, grid_points=t)\n",
    "\n",
    "basis3 = skfda.representation.basis.Monomial(domain_range=(0,1), n_basis=4)\n",
    "smoother3 = skfda.preprocessing.smoothing.BasisSmoother(basis3,method='cholesky',return_basis=True,)\n",
    "fd_basis3 = smoother3.fit_transform(fd)\n",
    "coeff=fd_basis3.coefficients.round(2)[0]\n",
    "print(\"Basis for Cubic Polynomial is\",coeff)\n",
    "\n",
    "basis1 =  skfda.representation.basis.Monomial(domain_range=(0,1), n_basis=2)\n",
    "smoother1 = skfda.preprocessing.smoothing.BasisSmoother(basis1,method='cholesky',return_basis=True,)\n",
    "fd_basis1 = smoother1.fit_transform(fd)\n",
    "coeff1=fd_basis1.coefficients.round(2)[0]\n",
    "print(\"Basis for Linear Polynomial is\",coeff1)\n"
   ]
  },
  {
   "cell_type": "code",
   "execution_count": 24,
   "id": "aa36de0e-ed89-4f95-8280-1b3997adf7c4",
   "metadata": {},
   "outputs": [
    {
     "data": {
      "application/javascript": [
       "\n",
       "        if (window._pyforest_update_imports_cell) { window._pyforest_update_imports_cell('import matplotlib.pyplot as plt\\nimport numpy as np\\nimport pandas as pd'); }\n",
       "    "
      ],
      "text/plain": [
       "<IPython.core.display.Javascript object>"
      ]
     },
     "metadata": {},
     "output_type": "display_data"
    },
    {
     "data": {
      "application/javascript": [
       "\n",
       "        if (window._pyforest_update_imports_cell) { window._pyforest_update_imports_cell('import matplotlib.pyplot as plt\\nimport numpy as np\\nimport pandas as pd'); }\n",
       "    "
      ],
      "text/plain": [
       "<IPython.core.display.Javascript object>"
      ]
     },
     "metadata": {},
     "output_type": "display_data"
    },
    {
     "data": {
      "application/javascript": [
       "\n",
       "        if (window._pyforest_update_imports_cell) { window._pyforest_update_imports_cell('import matplotlib.pyplot as plt\\nimport numpy as np\\nimport pandas as pd'); }\n",
       "    "
      ],
      "text/plain": [
       "<IPython.core.display.Javascript object>"
      ]
     },
     "metadata": {},
     "output_type": "display_data"
    },
    {
     "data": {
      "application/javascript": [
       "\n",
       "        if (window._pyforest_update_imports_cell) { window._pyforest_update_imports_cell('import matplotlib.pyplot as plt\\nimport numpy as np\\nimport pandas as pd'); }\n",
       "    "
      ],
      "text/plain": [
       "<IPython.core.display.Javascript object>"
      ]
     },
     "metadata": {},
     "output_type": "display_data"
    },
    {
     "data": {
      "application/javascript": [
       "\n",
       "        if (window._pyforest_update_imports_cell) { window._pyforest_update_imports_cell('import matplotlib.pyplot as plt\\nimport numpy as np\\nimport pandas as pd'); }\n",
       "    "
      ],
      "text/plain": [
       "<IPython.core.display.Javascript object>"
      ]
     },
     "metadata": {},
     "output_type": "display_data"
    },
    {
     "data": {
      "image/png": "[encoded data removed]",
      "text/plain": [
       "<Figure size 432x288 with 1 Axes>"
      ]
     },
     "metadata": {
      "needs_background": "light"
     },
     "output_type": "display_data"
    },
    {
     "data": {
      "image/png": "[encoded data removed]",
      "text/plain": [
       "<Figure size 432x288 with 1 Axes>"
      ]
     },
     "metadata": {
      "needs_background": "light"
     },
     "output_type": "display_data"
    }
   ],
   "source": [
    "fd_basis3.plot(label='Order 3 Polynomial')\n",
    "plt.plot(t,x,label='Actual Data')\n",
    "plt.legend()\n",
    "fd_basis1.plot(label='Order 1 Polynomial')\n",
    "plt.plot(t,x,label='Actual Data')\n",
    "plt.legend()\n",
    "plt.show()"
   ]
  },
  {
   "cell_type": "code",
   "execution_count": null,
   "id": "2269b6b7-c34f-4574-baa1-88a96e8dc53f",
   "metadata": {},
   "outputs": [],
   "source": []
  }
 ],
 "metadata": {
  "kernelspec": {
   "display_name": "Python 3 (ipykernel)",
   "language": "python",
   "name": "python3"
  },
  "language_info": {
   "codemirror_mode": {
    "name": "ipython",
    "version": 3
   },
   "file_extension": ".py",
   "mimetype": "text/x-python",
   "name": "python",
   "nbconvert_exporter": "python",
   "pygments_lexer": "ipython3",
   "version": "3.9.12"
  }
 },
 "nbformat": 4,
 "nbformat_minor": 5
}
