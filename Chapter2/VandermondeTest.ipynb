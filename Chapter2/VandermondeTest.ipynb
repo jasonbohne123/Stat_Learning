{
 "cells": [
  {
   "cell_type": "markdown",
   "id": "9f9d0623-1676-4632-83ae-7015b98e1cc0",
   "metadata": {},
   "source": [
    "# Supervised Learning Chapter 2"
   ]
  },
  {
   "cell_type": "code",
   "execution_count": 26,
   "id": "c027f601-10e0-49fe-9415-f6aa1a818af9",
   "metadata": {},
   "outputs": [
    {
     "name": "stdout",
     "output_type": "stream",
     "text": [
      "Collecting sympy\n",
      "  Downloading sympy-1.10.1-py3-none-any.whl (6.4 MB)\n",
      "\u001b[K     |████████████████████████████████| 6.4 MB 972 kB/s eta 0:00:01\n",
      "\u001b[?25hCollecting mpmath>=0.19\n",
      "  Downloading mpmath-1.2.1-py3-none-any.whl (532 kB)\n",
      "\u001b[K     |████████████████████████████████| 532 kB 827 kB/s eta 0:00:01\n",
      "\u001b[?25hInstalling collected packages: mpmath, sympy\n",
      "Successfully installed mpmath-1.2.1 sympy-1.10.1\n"
     ]
    }
   ],
   "source": [
    "import numpy as np\n",
    "import pandas as pd\n",
    "import matplotlib.pyplot as plt\n",
    "# ^^^ pyforest auto-imports - don't write above this line\n",
    "! pip install sympy\n",
    "import sympy\n",
    "from scipy.linalg import lstsq"
   ]
  },
  {
   "cell_type": "markdown",
   "id": "ca67f4e6-faec-4e7e-842e-7251af728d8f",
   "metadata": {},
   "source": [
    "### Linear Squares: Scipy\n",
    "\n",
    "https://docs.scipy.org/doc/scipy/reference/generated/scipy.linalg.lstsq.html#scipy.linalg.lstsq\n",
    "\n",
    "\n",
    "Sample points of a function, research question\n",
    "\n",
    "Does the OLS estimate give the taylor series approach\n",
    "\n",
    "\n",
    "\n",
    "\n",
    "\n"
   ]
  },
  {
   "cell_type": "code",
   "execution_count": 248,
   "id": "4027975f-0ff5-4d2b-9ccd-063d5d2a9ba9",
   "metadata": {},
   "outputs": [
    {
     "name": "stdout",
     "output_type": "stream",
     "text": [
      "[36.40975031 35.83840928 35.28601561 34.753856   34.24446875 33.76163296\n",
      " 33.31034333 32.89677056 32.52820735]\n"
     ]
    }
   ],
   "source": [
    "x = np.array([0.1,0.2,0.3,0.4,0.5,0.6,0.7,0.8,0.9])\n",
    "\n",
    "\n",
    "def fun(x):\n",
    "    return -0.02*x**6+0.033*x**5+0.5*x**4-0.3*x**3+x**2-6*x+37\n",
    "\n",
    "y = fun(x)\n",
    "print(y)"
   ]
  },
  {
   "cell_type": "markdown",
   "id": "0b3c6246-cc41-4c6e-9427-b4333f54e5cb",
   "metadata": {},
   "source": [
    "Given our polynomial guess we compose matrix M by taking x^k where k is the respective polynomial order"
   ]
  },
  {
   "cell_type": "code",
   "execution_count": 249,
   "id": "ff0c3271-c987-4607-81b9-8fb572561f84",
   "metadata": {},
   "outputs": [
    {
     "data": {
      "text/plain": [
       "array([[0.1],\n",
       "       [0.2],\n",
       "       [0.3],\n",
       "       [0.4],\n",
       "       [0.5],\n",
       "       [0.6],\n",
       "       [0.7],\n",
       "       [0.8],\n",
       "       [0.9]])"
      ]
     },
     "execution_count": 249,
     "metadata": {},
     "output_type": "execute_result"
    }
   ],
   "source": [
    "M = x[:, np.newaxis]**[1]\n",
    "M"
   ]
  },
  {
   "cell_type": "markdown",
   "id": "7a302e74-a31e-4b32-a91b-d44f760ac139",
   "metadata": {},
   "source": [
    "Scipy implementation returns solution, residuals, rank of matrix M, and singular values\n",
    "\n",
    "Note singular values of a matrix result from unitary diagonalization via LAPACK ls routines, number of singular values will correspond with rank of matrix"
   ]
  },
  {
   "cell_type": "code",
   "execution_count": 250,
   "id": "9a9d57b6-8a52-4b0c-8594-1b2009c873ff",
   "metadata": {},
   "outputs": [
    {
     "name": "stdout",
     "output_type": "stream",
     "text": [
      "LS Solution is [53.18781106]\n",
      "Sum of Squared Residuals is 2562.9\n",
      "Rank of LS matrix is 1\n",
      "Singular Values are [1.6881943]\n"
     ]
    }
   ],
   "source": [
    "p, res, rnk, s = lstsq(M, y)\n",
    "print(\"LS Solution is\", p)\n",
    "print(\"Sum of Squared Residuals is\", round(res,2))\n",
    "print(\"Rank of LS matrix is\", rnk)\n",
    "print(\"Singular Values are\", s)"
   ]
  },
  {
   "cell_type": "code",
   "execution_count": 251,
   "id": "96a11bef-8795-487f-82f1-34d024a58299",
   "metadata": {},
   "outputs": [
    {
     "data": {
      "application/javascript": [
       "\n",
       "        if (window._pyforest_update_imports_cell) { window._pyforest_update_imports_cell('import matplotlib.pyplot as plt'); }\n",
       "    "
      ],
      "text/plain": [
       "<IPython.core.display.Javascript object>"
      ]
     },
     "metadata": {},
     "output_type": "display_data"
    },
    {
     "data": {
      "application/javascript": [
       "\n",
       "        if (window._pyforest_update_imports_cell) { window._pyforest_update_imports_cell('import matplotlib.pyplot as plt'); }\n",
       "    "
      ],
      "text/plain": [
       "<IPython.core.display.Javascript object>"
      ]
     },
     "metadata": {},
     "output_type": "display_data"
    },
    {
     "data": {
      "application/javascript": [
       "\n",
       "        if (window._pyforest_update_imports_cell) { window._pyforest_update_imports_cell('import matplotlib.pyplot as plt'); }\n",
       "    "
      ],
      "text/plain": [
       "<IPython.core.display.Javascript object>"
      ]
     },
     "metadata": {},
     "output_type": "display_data"
    },
    {
     "data": {
      "application/javascript": [
       "\n",
       "        if (window._pyforest_update_imports_cell) { window._pyforest_update_imports_cell('import matplotlib.pyplot as plt'); }\n",
       "    "
      ],
      "text/plain": [
       "<IPython.core.display.Javascript object>"
      ]
     },
     "metadata": {},
     "output_type": "display_data"
    },
    {
     "data": {
      "application/javascript": [
       "\n",
       "        if (window._pyforest_update_imports_cell) { window._pyforest_update_imports_cell('import matplotlib.pyplot as plt'); }\n",
       "    "
      ],
      "text/plain": [
       "<IPython.core.display.Javascript object>"
      ]
     },
     "metadata": {},
     "output_type": "display_data"
    },
    {
     "data": {
      "application/javascript": [
       "\n",
       "        if (window._pyforest_update_imports_cell) { window._pyforest_update_imports_cell('import matplotlib.pyplot as plt'); }\n",
       "    "
      ],
      "text/plain": [
       "<IPython.core.display.Javascript object>"
      ]
     },
     "metadata": {},
     "output_type": "display_data"
    },
    {
     "data": {
      "application/javascript": [
       "\n",
       "        if (window._pyforest_update_imports_cell) { window._pyforest_update_imports_cell('import matplotlib.pyplot as plt'); }\n",
       "    "
      ],
      "text/plain": [
       "<IPython.core.display.Javascript object>"
      ]
     },
     "metadata": {},
     "output_type": "display_data"
    },
    {
     "data": {
      "image/png": "[encoded data removed]",
      "text/plain": [
       "<Figure size 432x288 with 1 Axes>"
      ]
     },
     "metadata": {
      "needs_background": "light"
     },
     "output_type": "display_data"
    }
   ],
   "source": [
    "plt.plot(x, y, 'o', label='data')\n",
    "xx = np.linspace(0, 1, 101)\n",
    "yy = p[0] *xx\n",
    "plt.plot(xx, yy, label='least squares fit, $y = ax$')\n",
    "plt.xlabel('x')\n",
    "plt.ylabel('y')\n",
    "plt.legend(framealpha=1, shadow=True)\n",
    "plt.grid(alpha=0.25)\n",
    "plt.show()"
   ]
  },
  {
   "cell_type": "markdown",
   "id": "132589f1-0be7-4a47-9bf1-e2d0fdaed513",
   "metadata": {},
   "source": [
    "### Higher Order Polynomial, Note 6th degree polynomial can be exactly fitted with 7 points, "
   ]
  },
  {
   "cell_type": "markdown",
   "id": "bb81b96a-8fdb-4182-bb10-631d886d938f",
   "metadata": {},
   "source": [
    "We can still solve a least squares problem when fitting a nonlinear polynomial, this results directly from the vandermonde matrix"
   ]
  },
  {
   "cell_type": "code",
   "execution_count": 252,
   "id": "9593d3e7-f347-45ee-8665-045135f90133",
   "metadata": {},
   "outputs": [
    {
     "data": {
      "text/plain": [
       "array([[1.000000e+00, 1.000000e-01, 1.000000e-02, 1.000000e-03,\n",
       "        1.000000e-04, 1.000000e-05, 1.000000e-06, 1.000000e-07],\n",
       "       [1.000000e+00, 2.000000e-01, 4.000000e-02, 8.000000e-03,\n",
       "        1.600000e-03, 3.200000e-04, 6.400000e-05, 1.280000e-05],\n",
       "       [1.000000e+00, 3.000000e-01, 9.000000e-02, 2.700000e-02,\n",
       "        8.100000e-03, 2.430000e-03, 7.290000e-04, 2.187000e-04],\n",
       "       [1.000000e+00, 4.000000e-01, 1.600000e-01, 6.400000e-02,\n",
       "        2.560000e-02, 1.024000e-02, 4.096000e-03, 1.638400e-03],\n",
       "       [1.000000e+00, 5.000000e-01, 2.500000e-01, 1.250000e-01,\n",
       "        6.250000e-02, 3.125000e-02, 1.562500e-02, 7.812500e-03],\n",
       "       [1.000000e+00, 6.000000e-01, 3.600000e-01, 2.160000e-01,\n",
       "        1.296000e-01, 7.776000e-02, 4.665600e-02, 2.799360e-02],\n",
       "       [1.000000e+00, 7.000000e-01, 4.900000e-01, 3.430000e-01,\n",
       "        2.401000e-01, 1.680700e-01, 1.176490e-01, 8.235430e-02],\n",
       "       [1.000000e+00, 8.000000e-01, 6.400000e-01, 5.120000e-01,\n",
       "        4.096000e-01, 3.276800e-01, 2.621440e-01, 2.097152e-01],\n",
       "       [1.000000e+00, 9.000000e-01, 8.100000e-01, 7.290000e-01,\n",
       "        6.561000e-01, 5.904900e-01, 5.314410e-01, 4.782969e-01]])"
      ]
     },
     "execution_count": 252,
     "metadata": {},
     "output_type": "execute_result"
    }
   ],
   "source": [
    "M = x[:, np.newaxis]**[0,1,2,3,4,5,6,7]\n",
    "M"
   ]
  },
  {
   "cell_type": "code",
   "execution_count": 253,
   "id": "65c3f357-8186-4599-97e5-b46e1f68e483",
   "metadata": {},
   "outputs": [
    {
     "name": "stdout",
     "output_type": "stream",
     "text": [
      "LS Solution is [ 3.70000000e+01 -6.00000000e+00  1.00000000e+00 -3.00000000e-01\n",
      "  5.00000000e-01  3.30000001e-02 -2.00000000e-02  8.66341902e-12]\n",
      "Sum of Residuals is 0.0\n",
      "Rank of LS matrix is 8\n",
      "Singular Values are [3.75471681e+00 1.39091546e+00 3.73555358e-01 7.75631250e-02\n",
      " 1.23762165e-02 1.44930406e-03 1.12649434e-04 4.65330405e-06]\n"
     ]
    }
   ],
   "source": [
    "p, res, rnk, s = lstsq(M, y)\n",
    "print(\"LS Solution is\", p)\n",
    "print(\"Sum of Residuals is\", round(res,2))\n",
    "print(\"Rank of LS matrix is\", rnk)\n",
    "print(\"Singular Values are\", s)"
   ]
  },
  {
   "cell_type": "code",
   "execution_count": 254,
   "id": "7f961623-dd0b-493f-9c56-29aa2d3dd1c3",
   "metadata": {},
   "outputs": [
    {
     "data": {
      "application/javascript": [
       "\n",
       "        if (window._pyforest_update_imports_cell) { window._pyforest_update_imports_cell('import matplotlib.pyplot as plt'); }\n",
       "    "
      ],
      "text/plain": [
       "<IPython.core.display.Javascript object>"
      ]
     },
     "metadata": {},
     "output_type": "display_data"
    },
    {
     "data": {
      "application/javascript": [
       "\n",
       "        if (window._pyforest_update_imports_cell) { window._pyforest_update_imports_cell('import matplotlib.pyplot as plt'); }\n",
       "    "
      ],
      "text/plain": [
       "<IPython.core.display.Javascript object>"
      ]
     },
     "metadata": {},
     "output_type": "display_data"
    },
    {
     "data": {
      "application/javascript": [
       "\n",
       "        if (window._pyforest_update_imports_cell) { window._pyforest_update_imports_cell('import matplotlib.pyplot as plt'); }\n",
       "    "
      ],
      "text/plain": [
       "<IPython.core.display.Javascript object>"
      ]
     },
     "metadata": {},
     "output_type": "display_data"
    },
    {
     "data": {
      "application/javascript": [
       "\n",
       "        if (window._pyforest_update_imports_cell) { window._pyforest_update_imports_cell('import matplotlib.pyplot as plt'); }\n",
       "    "
      ],
      "text/plain": [
       "<IPython.core.display.Javascript object>"
      ]
     },
     "metadata": {},
     "output_type": "display_data"
    },
    {
     "data": {
      "application/javascript": [
       "\n",
       "        if (window._pyforest_update_imports_cell) { window._pyforest_update_imports_cell('import matplotlib.pyplot as plt'); }\n",
       "    "
      ],
      "text/plain": [
       "<IPython.core.display.Javascript object>"
      ]
     },
     "metadata": {},
     "output_type": "display_data"
    },
    {
     "data": {
      "application/javascript": [
       "\n",
       "        if (window._pyforest_update_imports_cell) { window._pyforest_update_imports_cell('import matplotlib.pyplot as plt'); }\n",
       "    "
      ],
      "text/plain": [
       "<IPython.core.display.Javascript object>"
      ]
     },
     "metadata": {},
     "output_type": "display_data"
    },
    {
     "data": {
      "application/javascript": [
       "\n",
       "        if (window._pyforest_update_imports_cell) { window._pyforest_update_imports_cell('import matplotlib.pyplot as plt'); }\n",
       "    "
      ],
      "text/plain": [
       "<IPython.core.display.Javascript object>"
      ]
     },
     "metadata": {},
     "output_type": "display_data"
    },
    {
     "data": {
      "image/png": "[encoded data removed]",
      "text/plain": [
       "<Figure size 432x288 with 1 Axes>"
      ]
     },
     "metadata": {
      "needs_background": "light"
     },
     "output_type": "display_data"
    }
   ],
   "source": [
    "plt.plot(x, y, 'o', label='data')\n",
    "xx = np.linspace(0, 1, 100)\n",
    "yy = p[0] +p[1]*xx+p[2]*xx**2+p[3]*xx**3+p[4]*xx**4+p[5]*xx*5+p[6]*xx**6+p[7]*xx**7\n",
    "plt.plot(xx, yy, label='least squares fit, $y = O(x**5)$')\n",
    "plt.xlabel('x')\n",
    "plt.ylabel('y')\n",
    "plt.legend(framealpha=1, shadow=True)\n",
    "plt.grid(alpha=0.25)\n",
    "plt.show()"
   ]
  },
  {
   "cell_type": "code",
   "execution_count": 255,
   "id": "dd10a842-8381-4cb2-8802-99ae81477544",
   "metadata": {},
   "outputs": [],
   "source": [
    "from sympy import *                   # load all math functions\n",
    "init_printing( use_latex='mathjax' )  # use pretty math output\n"
   ]
  },
  {
   "cell_type": "code",
   "execution_count": 256,
   "id": "9f0373ff-ef8b-48a8-9560-85b46e6f678f",
   "metadata": {},
   "outputs": [
    {
     "data": {
      "text/latex": [
       "$\\displaystyle - 0.02 x^{6} + 0.33 x^{5} + 0.5 x^{4} - 0.3 x^{3} + x^{2} - 6 x + 37$"
      ],
      "text/plain": [
       "        6         5        4        3    2           \n",
       "- 0.02⋅x  + 0.33⋅x  + 0.5⋅x  - 0.3⋅x  + x  - 6⋅x + 37"
      ]
     },
     "execution_count": 256,
     "metadata": {},
     "output_type": "execute_result"
    }
   ],
   "source": [
    "fx = sympy.symbols('x', positive=True)\n",
    "formula = -0.02*fx**6+0.33*fx**5+0.5*fx**4-0.3*fx**3+fx**2-6*fx+37\n",
    "formula\n"
   ]
  },
  {
   "cell_type": "markdown",
   "id": "fc19ecfa-9caa-4016-90f9-2926d0d8d434",
   "metadata": {},
   "source": [
    "### Taylor Series Expanded up to order 6 terms and evaluated on our range\n",
    "\n",
    "- Assuming we evaluate the same taylor series then as long as expanded within our range interpolation is strong\n",
    "- How about evaluating multiple taylor series -> Sequence at a collection of points\n"
   ]
  },
  {
   "cell_type": "code",
   "execution_count": 257,
   "id": "0f327038-5d93-48e2-a30d-5f8516ef3393",
   "metadata": {},
   "outputs": [],
   "source": [
    "taylor=series( formula, fx, np.mean(x), 6 ).removeO()\n",
    "evaltaylor = lambdify(fx, taylor, modules=['numpy'])\n",
    "t = np.linspace(0, 1, 1000)\n",
    "\n"
   ]
  },
  {
   "cell_type": "code",
   "execution_count": 258,
   "id": "ec45645c-e281-4a1b-870f-a4a89fad503c",
   "metadata": {},
   "outputs": [
    {
     "data": {
      "application/javascript": [
       "\n",
       "        if (window._pyforest_update_imports_cell) { window._pyforest_update_imports_cell('import matplotlib.pyplot as plt'); }\n",
       "    "
      ],
      "text/plain": [
       "<IPython.core.display.Javascript object>"
      ]
     },
     "metadata": {},
     "output_type": "display_data"
    },
    {
     "data": {
      "application/javascript": [
       "\n",
       "        if (window._pyforest_update_imports_cell) { window._pyforest_update_imports_cell('import matplotlib.pyplot as plt'); }\n",
       "    "
      ],
      "text/plain": [
       "<IPython.core.display.Javascript object>"
      ]
     },
     "metadata": {},
     "output_type": "display_data"
    },
    {
     "data": {
      "application/javascript": [
       "\n",
       "        if (window._pyforest_update_imports_cell) { window._pyforest_update_imports_cell('import matplotlib.pyplot as plt'); }\n",
       "    "
      ],
      "text/plain": [
       "<IPython.core.display.Javascript object>"
      ]
     },
     "metadata": {},
     "output_type": "display_data"
    },
    {
     "data": {
      "application/javascript": [
       "\n",
       "        if (window._pyforest_update_imports_cell) { window._pyforest_update_imports_cell('import matplotlib.pyplot as plt'); }\n",
       "    "
      ],
      "text/plain": [
       "<IPython.core.display.Javascript object>"
      ]
     },
     "metadata": {},
     "output_type": "display_data"
    },
    {
     "data": {
      "application/javascript": [
       "\n",
       "        if (window._pyforest_update_imports_cell) { window._pyforest_update_imports_cell('import matplotlib.pyplot as plt'); }\n",
       "    "
      ],
      "text/plain": [
       "<IPython.core.display.Javascript object>"
      ]
     },
     "metadata": {},
     "output_type": "display_data"
    },
    {
     "data": {
      "application/javascript": [
       "\n",
       "        if (window._pyforest_update_imports_cell) { window._pyforest_update_imports_cell('import matplotlib.pyplot as plt'); }\n",
       "    "
      ],
      "text/plain": [
       "<IPython.core.display.Javascript object>"
      ]
     },
     "metadata": {},
     "output_type": "display_data"
    },
    {
     "data": {
      "image/png": "[encoded data removed]",
      "text/plain": [
       "<Figure size 432x288 with 1 Axes>"
      ]
     },
     "metadata": {
      "needs_background": "light"
     },
     "output_type": "display_data"
    }
   ],
   "source": [
    "plt.plot(x, y, 'o', label='data')\n",
    "plt.plot(t,-0.02*t**6+0.33*t**5+0.5*t**4-0.3*t**3+t**2-6*t+37,color='green',label='True')\n",
    "plt.plot(t, evaltaylor(t), 'r', label='Taylor')\n",
    "plt.plot(xx, yy, label='least squares fit, $y = O(x**5)$')\n",
    "plt.legend(loc='best')\n",
    "plt.show()"
   ]
  },
  {
   "cell_type": "markdown",
   "id": "ec1caf4b-d786-463d-8383-5ab2ffe9524f",
   "metadata": {},
   "source": [
    "### Trignometric Ideas"
   ]
  },
  {
   "cell_type": "code",
   "execution_count": 259,
   "id": "aae6d253-f2d8-40b5-b270-a5be4035a421",
   "metadata": {},
   "outputs": [
    {
     "name": "stdout",
     "output_type": "stream",
     "text": [
      "[1.09483758 1.17873591 1.2508567  1.31047934 1.3570081  1.38997809\n",
      " 1.40905987 1.4140628  1.40493688]\n"
     ]
    }
   ],
   "source": [
    "x = np.array([0.1,0.2,0.3,0.4,0.5,0.6,0.7,0.8,0.9])\n",
    "\n",
    "\n",
    "def fun(x):\n",
    "    return np.sin(x)+np.cos(x)\n",
    "\n",
    "y = fun(x)\n",
    "print(y)"
   ]
  },
  {
   "cell_type": "code",
   "execution_count": 260,
   "id": "e8292eed-05ce-4936-8584-cb34f3133c7c",
   "metadata": {},
   "outputs": [
    {
     "data": {
      "text/plain": [
       "array([[1.000000e+00, 1.000000e-01, 1.000000e-02, 1.000000e-03,\n",
       "        1.000000e-04, 1.000000e-05, 1.000000e-06, 1.000000e-07],\n",
       "       [1.000000e+00, 2.000000e-01, 4.000000e-02, 8.000000e-03,\n",
       "        1.600000e-03, 3.200000e-04, 6.400000e-05, 1.280000e-05],\n",
       "       [1.000000e+00, 3.000000e-01, 9.000000e-02, 2.700000e-02,\n",
       "        8.100000e-03, 2.430000e-03, 7.290000e-04, 2.187000e-04],\n",
       "       [1.000000e+00, 4.000000e-01, 1.600000e-01, 6.400000e-02,\n",
       "        2.560000e-02, 1.024000e-02, 4.096000e-03, 1.638400e-03],\n",
       "       [1.000000e+00, 5.000000e-01, 2.500000e-01, 1.250000e-01,\n",
       "        6.250000e-02, 3.125000e-02, 1.562500e-02, 7.812500e-03],\n",
       "       [1.000000e+00, 6.000000e-01, 3.600000e-01, 2.160000e-01,\n",
       "        1.296000e-01, 7.776000e-02, 4.665600e-02, 2.799360e-02],\n",
       "       [1.000000e+00, 7.000000e-01, 4.900000e-01, 3.430000e-01,\n",
       "        2.401000e-01, 1.680700e-01, 1.176490e-01, 8.235430e-02],\n",
       "       [1.000000e+00, 8.000000e-01, 6.400000e-01, 5.120000e-01,\n",
       "        4.096000e-01, 3.276800e-01, 2.621440e-01, 2.097152e-01],\n",
       "       [1.000000e+00, 9.000000e-01, 8.100000e-01, 7.290000e-01,\n",
       "        6.561000e-01, 5.904900e-01, 5.314410e-01, 4.782969e-01]])"
      ]
     },
     "execution_count": 260,
     "metadata": {},
     "output_type": "execute_result"
    }
   ],
   "source": [
    "M = x[:, np.newaxis]**[0,1,2,3,4,5,6,7]\n",
    "M"
   ]
  },
  {
   "cell_type": "code",
   "execution_count": 261,
   "id": "abdcc92a-e867-45d1-b036-83bb187acb09",
   "metadata": {},
   "outputs": [
    {
     "name": "stdout",
     "output_type": "stream",
     "text": [
      "LS Solution is [ 9.99999975e-01  1.00000065e+00 -5.00006632e-01 -1.66631556e-01\n",
      "  4.15591891e-02  8.52997697e-03 -1.59966987e-03 -7.86708667e-05]\n",
      "Sum of Residuals is 0.0\n",
      "Rank of LS matrix is 8\n",
      "Singular Values are [3.75471681e+00 1.39091546e+00 3.73555358e-01 7.75631250e-02\n",
      " 1.23762165e-02 1.44930406e-03 1.12649434e-04 4.65330405e-06]\n"
     ]
    }
   ],
   "source": [
    "p, res, rnk, s = lstsq(M, y)\n",
    "print(\"LS Solution is\", p)\n",
    "print(\"Sum of Residuals is\", round(res,2))\n",
    "print(\"Rank of LS matrix is\", rnk)\n",
    "print(\"Singular Values are\", s)"
   ]
  },
  {
   "cell_type": "code",
   "execution_count": 262,
   "id": "8e1d4e93-d33a-4e30-acf3-d4849c15953a",
   "metadata": {},
   "outputs": [
    {
     "data": {
      "application/javascript": [
       "\n",
       "        if (window._pyforest_update_imports_cell) { window._pyforest_update_imports_cell('import matplotlib.pyplot as plt'); }\n",
       "    "
      ],
      "text/plain": [
       "<IPython.core.display.Javascript object>"
      ]
     },
     "metadata": {},
     "output_type": "display_data"
    },
    {
     "data": {
      "application/javascript": [
       "\n",
       "        if (window._pyforest_update_imports_cell) { window._pyforest_update_imports_cell('import matplotlib.pyplot as plt'); }\n",
       "    "
      ],
      "text/plain": [
       "<IPython.core.display.Javascript object>"
      ]
     },
     "metadata": {},
     "output_type": "display_data"
    },
    {
     "data": {
      "application/javascript": [
       "\n",
       "        if (window._pyforest_update_imports_cell) { window._pyforest_update_imports_cell('import matplotlib.pyplot as plt'); }\n",
       "    "
      ],
      "text/plain": [
       "<IPython.core.display.Javascript object>"
      ]
     },
     "metadata": {},
     "output_type": "display_data"
    },
    {
     "data": {
      "application/javascript": [
       "\n",
       "        if (window._pyforest_update_imports_cell) { window._pyforest_update_imports_cell('import matplotlib.pyplot as plt'); }\n",
       "    "
      ],
      "text/plain": [
       "<IPython.core.display.Javascript object>"
      ]
     },
     "metadata": {},
     "output_type": "display_data"
    },
    {
     "data": {
      "application/javascript": [
       "\n",
       "        if (window._pyforest_update_imports_cell) { window._pyforest_update_imports_cell('import matplotlib.pyplot as plt'); }\n",
       "    "
      ],
      "text/plain": [
       "<IPython.core.display.Javascript object>"
      ]
     },
     "metadata": {},
     "output_type": "display_data"
    },
    {
     "data": {
      "application/javascript": [
       "\n",
       "        if (window._pyforest_update_imports_cell) { window._pyforest_update_imports_cell('import matplotlib.pyplot as plt'); }\n",
       "    "
      ],
      "text/plain": [
       "<IPython.core.display.Javascript object>"
      ]
     },
     "metadata": {},
     "output_type": "display_data"
    },
    {
     "data": {
      "application/javascript": [
       "\n",
       "        if (window._pyforest_update_imports_cell) { window._pyforest_update_imports_cell('import matplotlib.pyplot as plt'); }\n",
       "    "
      ],
      "text/plain": [
       "<IPython.core.display.Javascript object>"
      ]
     },
     "metadata": {},
     "output_type": "display_data"
    },
    {
     "data": {
      "image/png": "[encoded data removed]",
      "text/plain": [
       "<Figure size 432x288 with 1 Axes>"
      ]
     },
     "metadata": {
      "needs_background": "light"
     },
     "output_type": "display_data"
    }
   ],
   "source": [
    "plt.plot(x, y, 'o', label='data')\n",
    "xx = np.linspace(0, 1, 100)\n",
    "yy = p[0] +p[1]*xx+p[2]*xx**2+p[3]*xx**3+p[4]*xx**4+p[5]*xx*5+p[6]*xx**6+p[7]*xx**7\n",
    "plt.plot(xx, yy, label='least squares fit, $y = O(x**7)$')\n",
    "plt.xlabel('x')\n",
    "plt.ylabel('y')\n",
    "plt.legend(framealpha=1, shadow=True)\n",
    "plt.grid(alpha=0.25)\n",
    "plt.show()"
   ]
  },
  {
   "cell_type": "code",
   "execution_count": 263,
   "id": "0fdbd99c-fcb7-4db5-82b9-109fe7b5216a",
   "metadata": {},
   "outputs": [
    {
     "data": {
      "text/latex": [
       "$\\displaystyle \\sin{\\left(x \\right)} + \\cos{\\left(x \\right)}$"
      ],
      "text/plain": [
       "sin(x) + cos(x)"
      ]
     },
     "execution_count": 263,
     "metadata": {},
     "output_type": "execute_result"
    }
   ],
   "source": [
    "fx = sympy.symbols('x', positive=True)\n",
    "formula = sympy.sin(fx)+sympy.cos(fx)\n",
    "formula\n"
   ]
  },
  {
   "cell_type": "code",
   "execution_count": 264,
   "id": "606f8da2-1104-4628-b698-3d08ee615098",
   "metadata": {},
   "outputs": [
    {
     "data": {
      "application/javascript": [
       "\n",
       "        if (window._pyforest_update_imports_cell) { window._pyforest_update_imports_cell('import matplotlib.pyplot as plt'); }\n",
       "    "
      ],
      "text/plain": [
       "<IPython.core.display.Javascript object>"
      ]
     },
     "metadata": {},
     "output_type": "display_data"
    },
    {
     "data": {
      "application/javascript": [
       "\n",
       "        if (window._pyforest_update_imports_cell) { window._pyforest_update_imports_cell('import matplotlib.pyplot as plt'); }\n",
       "    "
      ],
      "text/plain": [
       "<IPython.core.display.Javascript object>"
      ]
     },
     "metadata": {},
     "output_type": "display_data"
    },
    {
     "data": {
      "application/javascript": [
       "\n",
       "        if (window._pyforest_update_imports_cell) { window._pyforest_update_imports_cell('import matplotlib.pyplot as plt'); }\n",
       "    "
      ],
      "text/plain": [
       "<IPython.core.display.Javascript object>"
      ]
     },
     "metadata": {},
     "output_type": "display_data"
    },
    {
     "data": {
      "application/javascript": [
       "\n",
       "        if (window._pyforest_update_imports_cell) { window._pyforest_update_imports_cell('import matplotlib.pyplot as plt'); }\n",
       "    "
      ],
      "text/plain": [
       "<IPython.core.display.Javascript object>"
      ]
     },
     "metadata": {},
     "output_type": "display_data"
    },
    {
     "data": {
      "application/javascript": [
       "\n",
       "        if (window._pyforest_update_imports_cell) { window._pyforest_update_imports_cell('import matplotlib.pyplot as plt'); }\n",
       "    "
      ],
      "text/plain": [
       "<IPython.core.display.Javascript object>"
      ]
     },
     "metadata": {},
     "output_type": "display_data"
    },
    {
     "data": {
      "application/javascript": [
       "\n",
       "        if (window._pyforest_update_imports_cell) { window._pyforest_update_imports_cell('import matplotlib.pyplot as plt'); }\n",
       "    "
      ],
      "text/plain": [
       "<IPython.core.display.Javascript object>"
      ]
     },
     "metadata": {},
     "output_type": "display_data"
    },
    {
     "data": {
      "image/png": "[encoded data removed]",
      "text/plain": [
       "<Figure size 432x288 with 1 Axes>"
      ]
     },
     "metadata": {
      "needs_background": "light"
     },
     "output_type": "display_data"
    }
   ],
   "source": [
    "taylor=series( formula, fx, np.mean(x), 6 ).removeO()\n",
    "evaltaylor = lambdify(fx, taylor, modules=['numpy'])\n",
    "t = np.linspace(0, 1, 1000)\n",
    "plt.plot(x, y, 'o', label='data')\n",
    "plt.plot(t,np.sin(t)+np.cos(t),color='green',label='True')\n",
    "plt.plot(t, evaltaylor(t), 'r', label='Taylor')\n",
    "plt.plot(xx, yy, label='least squares fit, $y = O(x**5)$')\n",
    "plt.legend(loc='best')\n",
    "plt.show()"
   ]
  },
  {
   "cell_type": "markdown",
   "id": "eadcd8e8-c485-49c7-a412-b490951a67cd",
   "metadata": {},
   "source": [
    "Taylor Series is near identical to actual function,\n",
    "\n",
    "Least Squares system off sampled points is quite close too in both interpolation, extrapolation\n",
    "\n",
    "\n",
    "In general this doesn't seem to be true take f(x)=sin(c+2*pi), least squares estimate will be sin(c)\n",
    "\n",
    "\n",
    "Related to Norm? Natural norm for analytic functions"
   ]
  },
  {
   "cell_type": "code",
   "execution_count": null,
   "id": "ee88f6df-37a6-4248-9fe5-c34e2fd3f213",
   "metadata": {},
   "outputs": [],
   "source": []
  }
 ],
 "metadata": {
  "kernelspec": {
   "display_name": "Python 3 (ipykernel)",
   "language": "python",
   "name": "python3"
  },
  "language_info": {
   "codemirror_mode": {
    "name": "ipython",
    "version": 3
   },
   "file_extension": ".py",
   "mimetype": "text/x-python",
   "name": "python",
   "nbconvert_exporter": "python",
   "pygments_lexer": "ipython3",
   "version": "3.9.12"
  }
 },
 "nbformat": 4,
 "nbformat_minor": 5
}
