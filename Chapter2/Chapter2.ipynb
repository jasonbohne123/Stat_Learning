{
 "cells": [
  {
   "cell_type": "markdown",
   "id": "9f9d0623-1676-4632-83ae-7015b98e1cc0",
   "metadata": {},
   "source": [
    "# Supervised Learning Chapter 2"
   ]
  },
  {
   "cell_type": "code",
   "execution_count": 18,
   "id": "c027f601-10e0-49fe-9415-f6aa1a818af9",
   "metadata": {},
   "outputs": [],
   "source": [
    "import numpy as np\n",
    "# ^^^ pyforest auto-imports - don't write above this line\n",
    "from scipy.linalg import lstsq"
   ]
  },
  {
   "cell_type": "markdown",
   "id": "ca67f4e6-faec-4e7e-842e-7251af728d8f",
   "metadata": {},
   "source": [
    "### Linear Squares: Scipy\n",
    "\n",
    "https://docs.scipy.org/doc/scipy/reference/generated/scipy.linalg.lstsq.html#scipy.linalg.lstsq\n",
    "\n",
    "\n",
    "Most Common method is Least Squares where we minimize the sum of squared residuals (2-norm)\n",
    "\n",
    "\n",
    "\n",
    "\n",
    "\n"
   ]
  },
  {
   "cell_type": "markdown",
   "id": "2f545096-1504-46ae-883d-dc008f63c064",
   "metadata": {},
   "source": [
    "LAPACK Implementation, uses either orthogonal diagonalization or SVD\n",
    "\n",
    "http://www.netlib.org/lapack/lug/node27.html"
   ]
  },
  {
   "cell_type": "code",
   "execution_count": 51,
   "id": "4027975f-0ff5-4d2b-9ccd-063d5d2a9ba9",
   "metadata": {},
   "outputs": [
    {
     "data": {
      "application/javascript": [
       "\n",
       "        if (window._pyforest_update_imports_cell) { window._pyforest_update_imports_cell('import matplotlib.pyplot as plt\\nimport numpy as np'); }\n",
       "    "
      ],
      "text/plain": [
       "<IPython.core.display.Javascript object>"
      ]
     },
     "metadata": {},
     "output_type": "display_data"
    },
    {
     "data": {
      "application/javascript": [
       "\n",
       "        if (window._pyforest_update_imports_cell) { window._pyforest_update_imports_cell('import matplotlib.pyplot as plt\\nimport numpy as np'); }\n",
       "    "
      ],
      "text/plain": [
       "<IPython.core.display.Javascript object>"
      ]
     },
     "metadata": {},
     "output_type": "display_data"
    }
   ],
   "source": [
    "x = np.array([1, 2.5, 3.5, 4, 5, 7, 8.5])\n",
    "y = np.array([0.3, 1.1, 1.5, 2.0, 3.2, 6.6, 8.6])"
   ]
  },
  {
   "cell_type": "markdown",
   "id": "0b3c6246-cc41-4c6e-9427-b4333f54e5cb",
   "metadata": {},
   "source": [
    "Given our polynomial guess we compose matrix M by taking x^k where k is the respective polynomial order"
   ]
  },
  {
   "cell_type": "code",
   "execution_count": 52,
   "id": "ff0c3271-c987-4607-81b9-8fb572561f84",
   "metadata": {},
   "outputs": [
    {
     "data": {
      "application/javascript": [
       "\n",
       "        if (window._pyforest_update_imports_cell) { window._pyforest_update_imports_cell('import matplotlib.pyplot as plt\\nimport numpy as np'); }\n",
       "    "
      ],
      "text/plain": [
       "<IPython.core.display.Javascript object>"
      ]
     },
     "metadata": {},
     "output_type": "display_data"
    },
    {
     "data": {
      "text/plain": [
       "array([[1. ],\n",
       "       [2.5],\n",
       "       [3.5],\n",
       "       [4. ],\n",
       "       [5. ],\n",
       "       [7. ],\n",
       "       [8.5]])"
      ]
     },
     "execution_count": 52,
     "metadata": {},
     "output_type": "execute_result"
    }
   ],
   "source": [
    "M = x[:, np.newaxis]**[1]\n",
    "M"
   ]
  },
  {
   "cell_type": "markdown",
   "id": "7a302e74-a31e-4b32-a91b-d44f760ac139",
   "metadata": {},
   "source": [
    "Scipy implementation returns solution, residuals, rank of matrix M, and singular values\n",
    "\n",
    "Note singular values of a matrix result from unitary diagonalization via LAPACK ls routines, number of singular values will correspond with rank of matrix"
   ]
  },
  {
   "cell_type": "code",
   "execution_count": 53,
   "id": "9a9d57b6-8a52-4b0c-8594-1b2009c873ff",
   "metadata": {},
   "outputs": [
    {
     "name": "stdout",
     "output_type": "stream",
     "text": [
      "LS Solution is [0.83411279]\n",
      "Sum of Squared Residuals is 8.86\n",
      "Rank of LS matrix is 1\n",
      "Singular Values are [13.48146876]\n"
     ]
    }
   ],
   "source": [
    "p, res, rnk, s = lstsq(M, y)\n",
    "print(\"LS Solution is\", p)\n",
    "print(\"Sum of Squared Residuals is\", round(res,2))\n",
    "print(\"Rank of LS matrix is\", rnk)\n",
    "print(\"Singular Values are\", s)"
   ]
  },
  {
   "cell_type": "code",
   "execution_count": 39,
   "id": "96a11bef-8795-487f-82f1-34d024a58299",
   "metadata": {},
   "outputs": [
    {
     "data": {
      "application/javascript": [
       "\n",
       "        if (window._pyforest_update_imports_cell) { window._pyforest_update_imports_cell('import matplotlib.pyplot as plt\\nimport numpy as np'); }\n",
       "    "
      ],
      "text/plain": [
       "<IPython.core.display.Javascript object>"
      ]
     },
     "metadata": {},
     "output_type": "display_data"
    },
    {
     "data": {
      "application/javascript": [
       "\n",
       "        if (window._pyforest_update_imports_cell) { window._pyforest_update_imports_cell('import matplotlib.pyplot as plt\\nimport numpy as np'); }\n",
       "    "
      ],
      "text/plain": [
       "<IPython.core.display.Javascript object>"
      ]
     },
     "metadata": {},
     "output_type": "display_data"
    },
    {
     "data": {
      "application/javascript": [
       "\n",
       "        if (window._pyforest_update_imports_cell) { window._pyforest_update_imports_cell('import matplotlib.pyplot as plt\\nimport numpy as np'); }\n",
       "    "
      ],
      "text/plain": [
       "<IPython.core.display.Javascript object>"
      ]
     },
     "metadata": {},
     "output_type": "display_data"
    },
    {
     "data": {
      "application/javascript": [
       "\n",
       "        if (window._pyforest_update_imports_cell) { window._pyforest_update_imports_cell('import matplotlib.pyplot as plt\\nimport numpy as np'); }\n",
       "    "
      ],
      "text/plain": [
       "<IPython.core.display.Javascript object>"
      ]
     },
     "metadata": {},
     "output_type": "display_data"
    },
    {
     "data": {
      "application/javascript": [
       "\n",
       "        if (window._pyforest_update_imports_cell) { window._pyforest_update_imports_cell('import matplotlib.pyplot as plt\\nimport numpy as np'); }\n",
       "    "
      ],
      "text/plain": [
       "<IPython.core.display.Javascript object>"
      ]
     },
     "metadata": {},
     "output_type": "display_data"
    },
    {
     "data": {
      "application/javascript": [
       "\n",
       "        if (window._pyforest_update_imports_cell) { window._pyforest_update_imports_cell('import matplotlib.pyplot as plt\\nimport numpy as np'); }\n",
       "    "
      ],
      "text/plain": [
       "<IPython.core.display.Javascript object>"
      ]
     },
     "metadata": {},
     "output_type": "display_data"
    },
    {
     "data": {
      "application/javascript": [
       "\n",
       "        if (window._pyforest_update_imports_cell) { window._pyforest_update_imports_cell('import matplotlib.pyplot as plt\\nimport numpy as np'); }\n",
       "    "
      ],
      "text/plain": [
       "<IPython.core.display.Javascript object>"
      ]
     },
     "metadata": {},
     "output_type": "display_data"
    },
    {
     "data": {
      "application/javascript": [
       "\n",
       "        if (window._pyforest_update_imports_cell) { window._pyforest_update_imports_cell('import matplotlib.pyplot as plt\\nimport numpy as np'); }\n",
       "    "
      ],
      "text/plain": [
       "<IPython.core.display.Javascript object>"
      ]
     },
     "metadata": {},
     "output_type": "display_data"
    },
    {
     "data": {
      "image/png": "[encoded data removed]",
      "text/plain": [
       "<Figure size 432x288 with 1 Axes>"
      ]
     },
     "metadata": {
      "needs_background": "light"
     },
     "output_type": "display_data"
    }
   ],
   "source": [
    "plt.plot(x, y, 'o', label='data')\n",
    "xx = np.linspace(0, 9, 101)\n",
    "yy = p[0] *xx\n",
    "plt.plot(xx, yy, label='least squares fit, $y = ax$')\n",
    "plt.xlabel('x')\n",
    "plt.ylabel('y')\n",
    "plt.legend(framealpha=1, shadow=True)\n",
    "plt.grid(alpha=0.25)\n",
    "plt.show()"
   ]
  },
  {
   "cell_type": "markdown",
   "id": "132589f1-0be7-4a47-9bf1-e2d0fdaed513",
   "metadata": {},
   "source": [
    "### Higher Order Polynomial"
   ]
  },
  {
   "cell_type": "markdown",
   "id": "bb81b96a-8fdb-4182-bb10-631d886d938f",
   "metadata": {},
   "source": [
    "We can still solve a least squares problem when fitting a nonlinear polynomial, this results directly from the vandermonde matrix"
   ]
  },
  {
   "cell_type": "code",
   "execution_count": 40,
   "id": "9593d3e7-f347-45ee-8665-045135f90133",
   "metadata": {},
   "outputs": [
    {
     "data": {
      "application/javascript": [
       "\n",
       "        if (window._pyforest_update_imports_cell) { window._pyforest_update_imports_cell('import matplotlib.pyplot as plt\\nimport numpy as np'); }\n",
       "    "
      ],
      "text/plain": [
       "<IPython.core.display.Javascript object>"
      ]
     },
     "metadata": {},
     "output_type": "display_data"
    },
    {
     "data": {
      "text/plain": [
       "array([[  1.   ,   1.   ,   1.   ,   1.   ],\n",
       "       [  1.   ,   2.5  ,   6.25 ,  15.625],\n",
       "       [  1.   ,   3.5  ,  12.25 ,  42.875],\n",
       "       [  1.   ,   4.   ,  16.   ,  64.   ],\n",
       "       [  1.   ,   5.   ,  25.   , 125.   ],\n",
       "       [  1.   ,   7.   ,  49.   , 343.   ],\n",
       "       [  1.   ,   8.5  ,  72.25 , 614.125]])"
      ]
     },
     "execution_count": 40,
     "metadata": {},
     "output_type": "execute_result"
    }
   ],
   "source": [
    "M = x[:, np.newaxis]**[0,1,2,3]\n",
    "M"
   ]
  },
  {
   "cell_type": "code",
   "execution_count": 41,
   "id": "65c3f357-8186-4599-97e5-b46e1f68e483",
   "metadata": {},
   "outputs": [
    {
     "name": "stdout",
     "output_type": "stream",
     "text": [
      "LS Solution is [ 0.82216362 -0.73286316  0.32491379 -0.0152809 ]\n",
      "Sum of Residuals is 0.22\n",
      "Rank of LS matrix is 4\n",
      "Singular Values are [7.24690374e+02 1.74621746e+01 1.63959245e+00 3.25245346e-01]\n"
     ]
    }
   ],
   "source": [
    "p, res, rnk, s = lstsq(M, y)\n",
    "print(\"LS Solution is\", p)\n",
    "print(\"Sum of Residuals is\", round(res,2))\n",
    "print(\"Rank of LS matrix is\", rnk)\n",
    "print(\"Singular Values are\", s)"
   ]
  },
  {
   "cell_type": "code",
   "execution_count": 43,
   "id": "7f961623-dd0b-493f-9c56-29aa2d3dd1c3",
   "metadata": {},
   "outputs": [
    {
     "data": {
      "application/javascript": [
       "\n",
       "        if (window._pyforest_update_imports_cell) { window._pyforest_update_imports_cell('import matplotlib.pyplot as plt\\nimport numpy as np'); }\n",
       "    "
      ],
      "text/plain": [
       "<IPython.core.display.Javascript object>"
      ]
     },
     "metadata": {},
     "output_type": "display_data"
    },
    {
     "data": {
      "application/javascript": [
       "\n",
       "        if (window._pyforest_update_imports_cell) { window._pyforest_update_imports_cell('import matplotlib.pyplot as plt\\nimport numpy as np'); }\n",
       "    "
      ],
      "text/plain": [
       "<IPython.core.display.Javascript object>"
      ]
     },
     "metadata": {},
     "output_type": "display_data"
    },
    {
     "data": {
      "application/javascript": [
       "\n",
       "        if (window._pyforest_update_imports_cell) { window._pyforest_update_imports_cell('import matplotlib.pyplot as plt\\nimport numpy as np'); }\n",
       "    "
      ],
      "text/plain": [
       "<IPython.core.display.Javascript object>"
      ]
     },
     "metadata": {},
     "output_type": "display_data"
    },
    {
     "data": {
      "application/javascript": [
       "\n",
       "        if (window._pyforest_update_imports_cell) { window._pyforest_update_imports_cell('import matplotlib.pyplot as plt\\nimport numpy as np'); }\n",
       "    "
      ],
      "text/plain": [
       "<IPython.core.display.Javascript object>"
      ]
     },
     "metadata": {},
     "output_type": "display_data"
    },
    {
     "data": {
      "application/javascript": [
       "\n",
       "        if (window._pyforest_update_imports_cell) { window._pyforest_update_imports_cell('import matplotlib.pyplot as plt\\nimport numpy as np'); }\n",
       "    "
      ],
      "text/plain": [
       "<IPython.core.display.Javascript object>"
      ]
     },
     "metadata": {},
     "output_type": "display_data"
    },
    {
     "data": {
      "application/javascript": [
       "\n",
       "        if (window._pyforest_update_imports_cell) { window._pyforest_update_imports_cell('import matplotlib.pyplot as plt\\nimport numpy as np'); }\n",
       "    "
      ],
      "text/plain": [
       "<IPython.core.display.Javascript object>"
      ]
     },
     "metadata": {},
     "output_type": "display_data"
    },
    {
     "data": {
      "application/javascript": [
       "\n",
       "        if (window._pyforest_update_imports_cell) { window._pyforest_update_imports_cell('import matplotlib.pyplot as plt\\nimport numpy as np'); }\n",
       "    "
      ],
      "text/plain": [
       "<IPython.core.display.Javascript object>"
      ]
     },
     "metadata": {},
     "output_type": "display_data"
    },
    {
     "data": {
      "application/javascript": [
       "\n",
       "        if (window._pyforest_update_imports_cell) { window._pyforest_update_imports_cell('import matplotlib.pyplot as plt\\nimport numpy as np'); }\n",
       "    "
      ],
      "text/plain": [
       "<IPython.core.display.Javascript object>"
      ]
     },
     "metadata": {},
     "output_type": "display_data"
    },
    {
     "data": {
      "image/png": "[encoded data removed]",
      "text/plain": [
       "<Figure size 432x288 with 1 Axes>"
      ]
     },
     "metadata": {
      "needs_background": "light"
     },
     "output_type": "display_data"
    }
   ],
   "source": [
    "plt.plot(x, y, 'o', label='data')\n",
    "xx = np.linspace(0, 9, 101)\n",
    "yy = p[0] +p[1]*xx+p[2]*xx**2+p[3]*xx**3\n",
    "plt.plot(xx, yy, label='least squares fit, $y = a+bx+cx^2+dx^3$')\n",
    "plt.xlabel('x')\n",
    "plt.ylabel('y')\n",
    "plt.legend(framealpha=1, shadow=True)\n",
    "plt.grid(alpha=0.25)\n",
    "plt.show()"
   ]
  },
  {
   "cell_type": "markdown",
   "id": "b5a57dc2-669c-43a2-9285-16b1a47d7c79",
   "metadata": {},
   "source": [
    "Questions:\n",
    "\n",
    "    - How does this minimize the two norm?\n",
    "Answer \n",
    "\n",
    "    - Min Norm can be solved explicitly from orthogonal diagonalization of the matrix in LAPACK\n",
    "    \n",
    "    \n",
    "    \n",
    "   "
   ]
  },
  {
   "cell_type": "markdown",
   "id": "82e1ba0c-0876-409b-8cf2-1bcb62f712dc",
   "metadata": {},
   "source": [
    "Without any penalty, Scikit learns OLS lienar model is equvalent to scipys"
   ]
  },
  {
   "cell_type": "code",
   "execution_count": null,
   "id": "ab32d0af-1aa9-443f-85dd-a07c77930189",
   "metadata": {},
   "outputs": [],
   "source": [
    "from sklearn import linear_model"
   ]
  },
  {
   "cell_type": "code",
   "execution_count": 61,
   "id": "acd737b9-cb41-4c02-afd2-4eb12c376f48",
   "metadata": {},
   "outputs": [
    {
     "data": {
      "application/javascript": [
       "\n",
       "        if (window._pyforest_update_imports_cell) { window._pyforest_update_imports_cell('import matplotlib.pyplot as plt\\nimport numpy as np'); }\n",
       "    "
      ],
      "text/plain": [
       "<IPython.core.display.Javascript object>"
      ]
     },
     "metadata": {},
     "output_type": "display_data"
    },
    {
     "data": {
      "application/javascript": [
       "\n",
       "        if (window._pyforest_update_imports_cell) { window._pyforest_update_imports_cell('import matplotlib.pyplot as plt\\nimport numpy as np'); }\n",
       "    "
      ],
      "text/plain": [
       "<IPython.core.display.Javascript object>"
      ]
     },
     "metadata": {},
     "output_type": "display_data"
    },
    {
     "data": {
      "application/javascript": [
       "\n",
       "        if (window._pyforest_update_imports_cell) { window._pyforest_update_imports_cell('import matplotlib.pyplot as plt\\nimport numpy as np'); }\n",
       "    "
      ],
      "text/plain": [
       "<IPython.core.display.Javascript object>"
      ]
     },
     "metadata": {},
     "output_type": "display_data"
    },
    {
     "name": "stdout",
     "output_type": "stream",
     "text": [
      "[0.83411279]\n",
      "[13.48146876]\n"
     ]
    },
    {
     "data": {
      "application/javascript": [
       "\n",
       "        if (window._pyforest_update_imports_cell) { window._pyforest_update_imports_cell('import matplotlib.pyplot as plt\\nimport numpy as np'); }\n",
       "    "
      ],
      "text/plain": [
       "<IPython.core.display.Javascript object>"
      ]
     },
     "metadata": {},
     "output_type": "display_data"
    },
    {
     "data": {
      "image/png": "[encoded data removed]",
      "text/plain": [
       "<Figure size 288x216 with 1 Axes>"
      ]
     },
     "metadata": {
      "needs_background": "light"
     },
     "output_type": "display_data"
    }
   ],
   "source": [
    "X_train = np.c_[1, 2.5, 3.5, 4, 5, 7, 8.5].T\n",
    "\n",
    "y_train = [0.3, 1.1, 1.5, 2.0, 3.2, 6.6, 8.6]\n",
    "X_test = np.c_[0,1,2,3,4,5,6,7,8,9,10,11,12].T\n",
    "\n",
    "classifiers = dict(\n",
    "    ols=linear_model.LinearRegression(fit_intercept=False)) # nonnegative \n",
    "\n",
    "for name, clf in classifiers.items():\n",
    "    fig, ax = plt.subplots(figsize=(4, 3))\n",
    "\n",
    "\n",
    "    clf.fit(X_train, y_train)\n",
    "    print(clf.coef_)\n",
    "    print(clf.singular_)\n",
    "    ax.plot(X_test, clf.predict(X_test), linewidth=2, color=\"blue\")\n",
    "    ax.scatter(X_train, y_train, s=30, c=\"red\", marker=\"+\", zorder=10)\n",
    "\n",
    "    ax.set_title(name)\n",
    "    ax.set_xlabel(\"X\")\n",
    "    ax.set_ylabel(\"y\")\n",
    "\n",
    "    fig.tight_layout()\n",
    "\n",
    "plt.show()"
   ]
  },
  {
   "cell_type": "markdown",
   "id": "bd448be1-0f29-4c30-9422-5ae528701dc3",
   "metadata": {},
   "source": [
    "Note matching values"
   ]
  },
  {
   "cell_type": "code",
   "execution_count": null,
   "id": "4b17bacf-6f5b-4071-ae4d-54f674f70b56",
   "metadata": {},
   "outputs": [],
   "source": []
  },
  {
   "cell_type": "markdown",
   "id": "3ccf4d14-64ba-44a9-a8b8-2a93bc7a7c74",
   "metadata": {},
   "source": [
    "### Nearest Neighbors\n",
    "\n",
    "- Applied to both supervised (notion of target variable) or unsupervised ( structure)\n",
    "\n",
    "- This requires a definition of distance (inner product on finite vector space) however, for now assume Euclidean distance metric\n",
    "\n",
    "- On the Neighborhood around each point some f(N(k)) needs to be applied which maps feature to our prediction , either discrete or continuous"
   ]
  },
  {
   "cell_type": "code",
   "execution_count": 1,
   "id": "04e1ad55-8083-4f91-8b3d-992d53c86d79",
   "metadata": {
    "tags": []
   },
   "outputs": [
    {
     "data": {
      "application/javascript": [
       "\n",
       "        if (window._pyforest_update_imports_cell) { window._pyforest_update_imports_cell('import numpy as np'); }\n",
       "    "
      ],
      "text/plain": [
       "<IPython.core.display.Javascript object>"
      ]
     },
     "metadata": {},
     "output_type": "display_data"
    },
    {
     "name": "stdout",
     "output_type": "stream",
     "text": [
      "[[0 1]\n",
      " [1 0]\n",
      " [2 1]\n",
      " [3 4]\n",
      " [4 3]\n",
      " [5 4]]\n",
      "[[0.         1.        ]\n",
      " [0.         1.        ]\n",
      " [0.         1.41421356]\n",
      " [0.         1.        ]\n",
      " [0.         1.        ]\n",
      " [0.         1.41421356]]\n"
     ]
    }
   ],
   "source": [
    "from sklearn.neighbors import NearestNeighbors\n",
    "\n",
    "X = np.array([[-1, -1], [-2, -1], [-3, -2], [1, 1], [2, 1], [3, 2]])\n",
    "nbrs = NearestNeighbors(n_neighbors=2, algorithm='brute').fit(X)\n",
    "distances, indices = nbrs.kneighbors(X)\n",
    "print(indices)\n",
    "print(distances)\n",
    "\n"
   ]
  },
  {
   "cell_type": "code",
   "execution_count": 6,
   "id": "238d39e1-da23-4fbb-94bc-58823247c100",
   "metadata": {},
   "outputs": [
    {
     "data": {
      "text/plain": [
       "array([[0.        , 1.        , 0.        , 0.        , 0.        ,\n",
       "        0.        ],\n",
       "       [1.        , 0.        , 0.        , 0.        , 0.        ,\n",
       "        0.        ],\n",
       "       [0.        , 1.41421356, 0.        , 0.        , 0.        ,\n",
       "        0.        ],\n",
       "       [0.        , 0.        , 0.        , 0.        , 1.        ,\n",
       "        0.        ],\n",
       "       [0.        , 0.        , 0.        , 1.        , 0.        ,\n",
       "        0.        ],\n",
       "       [0.        , 0.        , 0.        , 0.        , 1.41421356,\n",
       "        0.        ]])"
      ]
     },
     "execution_count": 6,
     "metadata": {},
     "output_type": "execute_result"
    }
   ],
   "source": [
    " nbrs.kneighbors_graph(X,mode='distance').toarray()"
   ]
  },
  {
   "cell_type": "markdown",
   "id": "84c52871-9585-4691-9f5d-ea0bad73b8c1",
   "metadata": {},
   "source": [
    "### Different Algorithms in Solving Nearest Neighbors\n",
    "\n",
    "- Brute Force of all N points in D dimensions\n",
    "- K-Dimensional Tree\n",
    "    - Use overlapping information to reduce number of computations of distance matrix across cartesian\n",
    "- Ball Tree\n",
    "    - Partitions data into hyperspheres , spherical coordinates\n",
    "   \n"
   ]
  },
  {
   "cell_type": "code",
   "execution_count": 14,
   "id": "3bfc1519-45d5-481b-8430-2bdfc301a92e",
   "metadata": {},
   "outputs": [
    {
     "data": {
      "application/javascript": [
       "\n",
       "        if (window._pyforest_update_imports_cell) { window._pyforest_update_imports_cell('import numpy as np'); }\n",
       "    "
      ],
      "text/plain": [
       "<IPython.core.display.Javascript object>"
      ]
     },
     "metadata": {},
     "output_type": "display_data"
    },
    {
     "data": {
      "text/plain": [
       "array([[0, 1],\n",
       "       [1, 0],\n",
       "       [2, 1],\n",
       "       [3, 4],\n",
       "       [4, 3],\n",
       "       [5, 4]])"
      ]
     },
     "execution_count": 14,
     "metadata": {},
     "output_type": "execute_result"
    }
   ],
   "source": [
    "from sklearn.neighbors import KDTree\n",
    "\n",
    "X = np.array([[-1, -1], [-2, -1], [-3, -2], [1, 1], [2, 1], [3, 2]])\n",
    "kdt = KDTree(X, leaf_size=30, metric='euclidean')\n",
    "kdt.query(X, k=2, return_distance=False)"
   ]
  },
  {
   "cell_type": "markdown",
   "id": "68b8a746-ada1-4434-be9d-d4449af9109c",
   "metadata": {},
   "source": [
    "Question\n",
    "   - How would we choose optimal k? In addition how do we specify a distance metric?\n",
    "   - Should distance metric (based on vector space) match our features data??\n",
    "       - Discrete input data, integer valued distance metric??"
   ]
  },
  {
   "cell_type": "code",
   "execution_count": null,
   "id": "42300376-e7ec-43f6-a7db-7193577fb2bc",
   "metadata": {},
   "outputs": [],
   "source": []
  }
 ],
 "metadata": {
  "kernelspec": {
   "display_name": "Python 3 (ipykernel)",
   "language": "python",
   "name": "python3"
  },
  "language_info": {
   "codemirror_mode": {
    "name": "ipython",
    "version": 3
   },
   "file_extension": ".py",
   "mimetype": "text/x-python",
   "name": "python",
   "nbconvert_exporter": "python",
   "pygments_lexer": "ipython3",
   "version": "3.9.12"
  }
 },
 "nbformat": 4,
 "nbformat_minor": 5
}
