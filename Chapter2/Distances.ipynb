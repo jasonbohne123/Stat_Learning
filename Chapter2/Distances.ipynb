{
 "cells": [
  {
   "cell_type": "markdown",
   "id": "18487a20-7981-411e-ab01-a86b29afea5e",
   "metadata": {},
   "source": [
    "# Exploring Different Distance Metrics "
   ]
  },
  {
   "cell_type": "markdown",
   "id": "331d8e5d-207f-4c9c-a207-9f0cbc9a9467",
   "metadata": {},
   "source": [
    "https://scikit-learn.org/stable/modules/generated/sklearn.metrics.DistanceMetric.html#sklearn.metrics.DistanceMetric"
   ]
  },
  {
   "cell_type": "code",
   "execution_count": null,
   "id": "54d314b7-9e61-4a5d-806e-33007c899b00",
   "metadata": {},
   "outputs": [],
   "source": []
  }
 ],
 "metadata": {
  "kernelspec": {
   "display_name": "Python 3 (ipykernel)",
   "language": "python",
   "name": "python3"
  },
  "language_info": {
   "codemirror_mode": {
    "name": "ipython",
    "version": 3
   },
   "file_extension": ".py",
   "mimetype": "text/x-python",
   "name": "python",
   "nbconvert_exporter": "python",
   "pygments_lexer": "ipython3",
   "version": "3.9.12"
  }
 },
 "nbformat": 4,
 "nbformat_minor": 5
}
