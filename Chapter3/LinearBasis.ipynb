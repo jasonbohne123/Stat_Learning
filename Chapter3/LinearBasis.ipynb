{
 "cells": [
  {
   "cell_type": "markdown",
   "id": "992b494e-873a-471f-880a-15b544275422",
   "metadata": {},
   "source": [
    "# Chapter 3 Thoughts"
   ]
  },
  {
   "cell_type": "markdown",
   "id": "f797e54b-25ec-4c0e-a2cc-c2fd2cabffb1",
   "metadata": {},
   "source": [
    "Linear Regression means model is linear in variable, not necessarily in inputs\n",
    "\n",
    "Examples\n",
    "- Polynomials (Vandermonde)\n",
    "- Basis Functions\n",
    "- Trig (Fourier Series)"
   ]
  },
  {
   "cell_type": "code",
   "execution_count": 17,
   "id": "59bc38ca-e30d-4f9c-8f83-9f864698a609",
   "metadata": {},
   "outputs": [],
   "source": [
    "import numpy as np\n",
    "# ^^^ pyforest auto-imports - don't write above this line\n",
    "import numpy as np\n",
    "from scipy.linalg import lstsq\n",
    "from scipy.stats import norm\n"
   ]
  },
  {
   "cell_type": "markdown",
   "id": "ef89b74f-8d16-462c-9666-00fef31ac2c2",
   "metadata": {},
   "source": [
    "Example of linear basis functions where each ith basis function is normally distributed around N( 0, i)\n",
    "\n",
    "In this way impose priors of our variables as normally distributed functions, i.e. Bayesian Linear regression\n"
   ]
  },
  {
   "cell_type": "code",
   "execution_count": 129,
   "id": "1716ea13-0249-4952-84b4-32654a80d08d",
   "metadata": {},
   "outputs": [],
   "source": [
    "def gaussian_basis(x, mu, var):\n",
    "    return np.exp(- (np.linalg.norm(x-mu)**2)/2*var)\n",
    "\n",
    "\n",
    "x = np.linspace(-3,3,1000)\n",
    "t=norm.pdf(x)+norm.pdf(x,loc=-1,scale=2)+norm.pdf(x,scale=10)\n"
   ]
  },
  {
   "cell_type": "code",
   "execution_count": 130,
   "id": "bfbe5188-febd-43c1-9b33-a03f6bd2bea2",
   "metadata": {},
   "outputs": [],
   "source": [
    "M = 5\n",
    "Phi = np.ones((t.shape[0], M))\n",
    "for m in range(M-1):\n",
    "    Phi[:, m+1] = np.vectorize(gaussian_basis)(x, 0,(m+1))"
   ]
  },
  {
   "cell_type": "code",
   "execution_count": 131,
   "id": "c6abd7b9-5ea1-417c-a2a9-51e9cebfaed4",
   "metadata": {},
   "outputs": [
    {
     "name": "stdout",
     "output_type": "stream",
     "text": [
      "LS Solution is [ 0.  1. -1.  1. -1.]\n",
      "Sum of Squared Residuals is 1.9631923511680742\n",
      "Rank of LS matrix is 5\n",
      "Singular Values are [38.79109423 17.38016968  3.81144568  0.61181696  0.06265114]\n"
     ]
    }
   ],
   "source": [
    "p, res, rnk, s = lstsq(Phi, t)\n",
    "print(\"LS Solution is\", np.round(p))\n",
    "print(\"Sum of Squared Residuals is\", res)\n",
    "print(\"Rank of LS matrix is\", rnk)\n",
    "print(\"Singular Values are\", s)"
   ]
  },
  {
   "cell_type": "code",
   "execution_count": 133,
   "id": "61d8f7b5-7158-4f68-a81b-5d3b68e9c8e7",
   "metadata": {},
   "outputs": [
    {
     "data": {
      "application/javascript": [
       "\n",
       "        if (window._pyforest_update_imports_cell) { window._pyforest_update_imports_cell('import matplotlib.pyplot as plt'); }\n",
       "    "
      ],
      "text/plain": [
       "<IPython.core.display.Javascript object>"
      ]
     },
     "metadata": {},
     "output_type": "display_data"
    },
    {
     "data": {
      "application/javascript": [
       "\n",
       "        if (window._pyforest_update_imports_cell) { window._pyforest_update_imports_cell('import matplotlib.pyplot as plt'); }\n",
       "    "
      ],
      "text/plain": [
       "<IPython.core.display.Javascript object>"
      ]
     },
     "metadata": {},
     "output_type": "display_data"
    },
    {
     "data": {
      "application/javascript": [
       "\n",
       "        if (window._pyforest_update_imports_cell) { window._pyforest_update_imports_cell('import matplotlib.pyplot as plt'); }\n",
       "    "
      ],
      "text/plain": [
       "<IPython.core.display.Javascript object>"
      ]
     },
     "metadata": {},
     "output_type": "display_data"
    },
    {
     "data": {
      "application/javascript": [
       "\n",
       "        if (window._pyforest_update_imports_cell) { window._pyforest_update_imports_cell('import matplotlib.pyplot as plt'); }\n",
       "    "
      ],
      "text/plain": [
       "<IPython.core.display.Javascript object>"
      ]
     },
     "metadata": {},
     "output_type": "display_data"
    },
    {
     "data": {
      "application/javascript": [
       "\n",
       "        if (window._pyforest_update_imports_cell) { window._pyforest_update_imports_cell('import matplotlib.pyplot as plt'); }\n",
       "    "
      ],
      "text/plain": [
       "<IPython.core.display.Javascript object>"
      ]
     },
     "metadata": {},
     "output_type": "display_data"
    },
    {
     "data": {
      "application/javascript": [
       "\n",
       "        if (window._pyforest_update_imports_cell) { window._pyforest_update_imports_cell('import matplotlib.pyplot as plt'); }\n",
       "    "
      ],
      "text/plain": [
       "<IPython.core.display.Javascript object>"
      ]
     },
     "metadata": {},
     "output_type": "display_data"
    },
    {
     "data": {
      "application/javascript": [
       "\n",
       "        if (window._pyforest_update_imports_cell) { window._pyforest_update_imports_cell('import matplotlib.pyplot as plt'); }\n",
       "    "
      ],
      "text/plain": [
       "<IPython.core.display.Javascript object>"
      ]
     },
     "metadata": {},
     "output_type": "display_data"
    },
    {
     "data": {
      "image/png": "[encoded data removed]",
      "text/plain": [
       "<Figure size 432x288 with 1 Axes>"
      ]
     },
     "metadata": {
      "needs_background": "light"
     },
     "output_type": "display_data"
    }
   ],
   "source": [
    "plt.plot(x, t, 'o', label='data')\n",
    "xx = np.linspace(-3, 3, 101)\n",
    "yy = p[0] +sum([p[i]*norm.pdf(xx,scale=i) for i in range (1,M)])\n",
    "\n",
    "plt.plot(xx, yy, label='least squares fit, $y = \\sum N(x,i)$')\n",
    "plt.xlabel('x')\n",
    "plt.ylabel('y')\n",
    "plt.legend(framealpha=1, shadow=True)\n",
    "plt.grid(alpha=0.25)\n",
    "plt.show()"
   ]
  },
  {
   "cell_type": "code",
   "execution_count": null,
   "id": "ab5b03b4-4e7f-46b2-81ed-77883c3b1b3e",
   "metadata": {},
   "outputs": [],
   "source": []
  },
  {
   "cell_type": "code",
   "execution_count": null,
   "id": "d8c2449f-95e2-49d1-9a7b-be27e5d284bd",
   "metadata": {},
   "outputs": [],
   "source": []
  }
 ],
 "metadata": {
  "kernelspec": {
   "display_name": "Python [conda env:research]",
   "language": "python",
   "name": "conda-env-research-py"
  },
  "language_info": {
   "codemirror_mode": {
    "name": "ipython",
    "version": 3
   },
   "file_extension": ".py",
   "mimetype": "text/x-python",
   "name": "python",
   "nbconvert_exporter": "python",
   "pygments_lexer": "ipython3",
   "version": "3.6.13"
  }
 },
 "nbformat": 4,
 "nbformat_minor": 5
}
