{
 "cells": [
  {
   "cell_type": "code",
   "execution_count": 1,
   "id": "97b1bdc0-fd76-43b5-a525-ab021a286307",
   "metadata": {},
   "outputs": [],
   "source": [
    "import matplotlib.pyplot as plt\n",
    "import numpy as np\n",
    "# ^^^ pyforest auto-imports - don't write above this line\n",
    "#! pip install --upgrade pyforest\n",
    "#! python -m pyforest install_extensions"
   ]
  },
  {
   "cell_type": "code",
   "execution_count": 2,
   "id": "b69cc735-3670-4e69-b200-08d9ea76c089",
   "metadata": {},
   "outputs": [
    {
     "data": {
      "text/plain": [
       "['from sklearn.linear_model import LogisticRegression',\n",
       " 'import dash',\n",
       " 'from scipy import signal as sg',\n",
       " 'import fbprophet',\n",
       " 'import torch',\n",
       " 'from sklearn.linear_model import ElasticNet',\n",
       " 'from sklearn.feature_extraction.text import CountVectorizer',\n",
       " 'import matplotlib.pyplot as plt',\n",
       " 'from pyspark import SparkContext',\n",
       " 'import sklearn',\n",
       " 'import spacy',\n",
       " 'from sklearn.preprocessing import LabelEncoder',\n",
       " 'from sklearn.ensemble import RandomForestRegressor',\n",
       " 'from dask import dataframe as dd',\n",
       " 'import lightgbm as lgb',\n",
       " 'from sklearn.preprocessing import RobustScaler',\n",
       " 'import plotly.express as px',\n",
       " 'import numpy as np',\n",
       " 'import imutils',\n",
       " 'import tqdm',\n",
       " 'import fastai',\n",
       " 'from sklearn.feature_extraction.text import TfidfVectorizer',\n",
       " 'from sklearn.linear_model import LassoCV',\n",
       " 'import xgboost as xgb',\n",
       " 'import matplotlib as mpl',\n",
       " 'from sklearn.linear_model import RidgeCV',\n",
       " 'import os',\n",
       " 'from sklearn.preprocessing import StandardScaler',\n",
       " 'from sklearn.model_selection import GridSearchCV',\n",
       " 'import cv2',\n",
       " 'import gensim',\n",
       " 'from sklearn.linear_model import Lasso',\n",
       " 'from xlrd import open_workbook',\n",
       " 'import pickle',\n",
       " 'import statsmodels.api as sm',\n",
       " 'from sklearn.model_selection import train_test_split',\n",
       " 'from pathlib import Path',\n",
       " 'from openpyxl import load_workbook',\n",
       " 'from statsmodels.tsa.arima_model import ARIMA',\n",
       " 'from sklearn.impute import SimpleImputer',\n",
       " 'from sklearn.decomposition import PCA',\n",
       " 'from sklearn.ensemble import RandomForestClassifier',\n",
       " 'from scipy import stats',\n",
       " 'from sklearn.linear_model import Ridge',\n",
       " 'from sklearn.model_selection import cross_val_score',\n",
       " 'from sklearn.ensemble import GradientBoostingClassifier',\n",
       " 'from sklearn.manifold import TSNE',\n",
       " 'from sklearn.preprocessing import MinMaxScaler',\n",
       " 'from sklearn.linear_model import ElasticNetCV',\n",
       " 'import sys',\n",
       " 'from sklearn.linear_model import LinearRegression',\n",
       " 'from sklearn.model_selection import KFold',\n",
       " 'from sklearn.preprocessing import OneHotEncoder',\n",
       " 'from sklearn.model_selection import StratifiedKFold',\n",
       " 'from sklearn.preprocessing import PolynomialFeatures',\n",
       " 'import nltk',\n",
       " 'import skimage',\n",
       " 'import plotly as py',\n",
       " 'from fbprophet import Prophet',\n",
       " 'from sklearn.ensemble import GradientBoostingRegressor',\n",
       " 'from sklearn import svm',\n",
       " 'import datetime as dt',\n",
       " 'import altair as alt',\n",
       " 'import re',\n",
       " 'import keras',\n",
       " 'import plotly.graph_objs as go',\n",
       " 'import pandas as pd',\n",
       " 'import seaborn as sns',\n",
       " 'import tensorflow as tf',\n",
       " 'import awswrangler as wr',\n",
       " 'from sklearn.model_selection import RandomizedSearchCV',\n",
       " 'import bokeh',\n",
       " 'import statistics',\n",
       " 'from sklearn import metrics',\n",
       " 'import textblob',\n",
       " 'import pydot',\n",
       " 'from PIL import Image',\n",
       " 'from sklearn.cluster import KMeans',\n",
       " 'import glob']"
      ]
     },
     "execution_count": 2,
     "metadata": {},
     "output_type": "execute_result"
    }
   ],
   "source": [
    "lazy_imports()"
   ]
  },
  {
   "cell_type": "code",
   "execution_count": null,
   "id": "7ed4914f-b362-494c-90d6-d03e11b80f2d",
   "metadata": {},
   "outputs": [],
   "source": []
  }
 ],
 "metadata": {
  "kernelspec": {
   "display_name": "Python 3 (ipykernel)",
   "language": "python",
   "name": "python3"
  },
  "language_info": {
   "codemirror_mode": {
    "name": "ipython",
    "version": 3
   },
   "file_extension": ".py",
   "mimetype": "text/x-python",
   "name": "python",
   "nbconvert_exporter": "python",
   "pygments_lexer": "ipython3",
   "version": "3.9.12"
  }
 },
 "nbformat": 4,
 "nbformat_minor": 5
}
